{
 "cells": [
  {
   "cell_type": "markdown",
   "metadata": {},
   "source": [
    "## Libraries"
   ]
  },
  {
   "cell_type": "code",
   "execution_count": 1,
   "metadata": {},
   "outputs": [
    {
     "name": "stderr",
     "output_type": "stream",
     "text": [
      "c:\\Users\\Timur\\Documents\\Python_Scripts\\AI\\SHAP_project\\.venv\\Lib\\site-packages\\tqdm\\auto.py:21: TqdmWarning: IProgress not found. Please update jupyter and ipywidgets. See https://ipywidgets.readthedocs.io/en/stable/user_install.html\n",
      "  from .autonotebook import tqdm as notebook_tqdm\n"
     ]
    },
    {
     "name": "stdout",
     "output_type": "stream",
     "text": [
      "CUDA available: True\n",
      "Current device: 0\n",
      "Device name: NVIDIA GeForce RTX 4060 Laptop GPU\n"
     ]
    }
   ],
   "source": [
    "# Python 3.12.7\n",
    "# Windows 11, 64-bit\n",
    "# CUDA-device: NVIDIA GeForce RTX 4060 Laptop GPU\n",
    "\n",
    "# ! pip install transformers torch shap pandas matplotlib datasets plotly\n",
    "import pandas as pd\n",
    "import shap\n",
    "from transformers import AutoTokenizer, AutoModelForSequenceClassification, pipeline\n",
    "from datasets import Dataset\n",
    "import torch\n",
    "import numpy as np\n",
    "import json\n",
    "import os\n",
    "from collections import defaultdict\n",
    "from decimal import Decimal\n",
    "import plotly.graph_objects as go\n",
    "import textwrap\n",
    "import matplotlib.pyplot as plt\n",
    "\n",
    "print(f\"CUDA available: {torch.cuda.is_available()}\")\n",
    "print(f\"Current device: {torch.cuda.current_device()}\")\n",
    "print(f\"Device name: {torch.cuda.get_device_name(0)}\")\n"
   ]
  },
  {
   "cell_type": "markdown",
   "metadata": {},
   "source": [
    "## Model & Pipeline"
   ]
  },
  {
   "cell_type": "code",
   "execution_count": 2,
   "metadata": {},
   "outputs": [
    {
     "name": "stderr",
     "output_type": "stream",
     "text": [
      "Device set to use cuda\n"
     ]
    }
   ],
   "source": [
    "# Load the multilingual DistilBERT sentiment model\n",
    "MODEL_NAME = \"tabularisai/multilingual-sentiment-analysis\"\n",
    "tokenizer = AutoTokenizer.from_pretrained(MODEL_NAME)\n",
    "model = AutoModelForSequenceClassification.from_pretrained(MODEL_NAME)\n",
    "device = \"cuda\"\n",
    "\n",
    "# Hugging Face pipeline for sentiment analysis\n",
    "sentiment_pipeline = pipeline(\n",
    "    \"text-classification\",\n",
    "    model=model,\n",
    "    tokenizer=tokenizer,\n",
    "    top_k=None,\n",
    "    device=device\n",
    ")\n",
    "\n",
    "# Helper: Map class indices to sentiment labels\n",
    "sentiment_map = {0: \"Very Negative\", 1: \"Negative\", 2: \"Neutral\", 3: \"Positive\", 4: \"Very Positive\"}\n",
    "explainer = shap.Explainer(sentiment_pipeline)"
   ]
  },
  {
   "cell_type": "markdown",
   "metadata": {},
   "source": [
    "## Functions"
   ]
  },
  {
   "cell_type": "code",
   "execution_count": 3,
   "metadata": {},
   "outputs": [],
   "source": [
    "# Functions \n",
    "def explain_parallel_texts(df, text_columns, explainer, sample_size=None):\n",
    "    \"\"\"\n",
    "    Process parallel translations while keeping their relationships intact\n",
    "    \n",
    "    Parameters:\n",
    "    - df: DataFrame containing parallel texts\n",
    "    - text_columns: list of language columns to process\n",
    "    - explainer: SHAP explainer instance\n",
    "    - sample_size: optionally limit number of samples\n",
    "    \"\"\"\n",
    "    results = {}\n",
    "    \n",
    "    # Process each language separately but maintain original order\n",
    "    for lang in text_columns:\n",
    "        texts = df[lang].dropna().tolist()\n",
    "        if sample_size:\n",
    "            texts = texts[:sample_size]\n",
    "        \n",
    "        # Convert to Dataset for efficient processing\n",
    "        lang_dataset = Dataset.from_dict({\"text\": texts})\n",
    "        results[lang] = {\n",
    "            \"texts\": texts,\n",
    "            \"explanations\": explainer(lang_dataset[\"text\"])\n",
    "        }\n",
    "    \n",
    "    # Add metadata about parallel relationships\n",
    "    results[\"parallel_ids\"] = df[\"id\"].tolist() if \"id\" in df.columns else list(range(len(texts)))\n",
    "    \n",
    "    return results\n",
    "\n",
    "def extract_top_class_explanations(results):\n",
    "    \"\"\"\n",
    "    Processes SHAP results to keep only explanations for the most confident class.\n",
    "\n",
    "    Args:\n",
    "        results: Dictionary containing language-wise SHAP explanations\n",
    "                (your existing movie_results or legal_results)\n",
    "\n",
    "    Returns:\n",
    "        Dictionary with same structure but values only for predicted class\n",
    "    \"\"\"\n",
    "    simplified_results = {}\n",
    "\n",
    "    for lang in [k for k in results.keys() if k != 'parallel_ids']:\n",
    "        lang_data = results[lang]\n",
    "        simplified_explanations = []\n",
    "\n",
    "        for i, explanation in enumerate(lang_data['explanations']):\n",
    "            # Get the pipeline output for the current text\n",
    "            pipeline_output = sentiment_pipeline(lang_data['texts'][i])\n",
    "\n",
    "            # Extract the score and label of the most confident class\n",
    "            predicted_class_info = pipeline_output[0][0]\n",
    "            predicted_class_label = predicted_class_info['label']\n",
    "            predicted_class_score = predicted_class_info['score']\n",
    "\n",
    "            # Map the label to the class index using sentiment_map\n",
    "            predicted_class = [k for k, v in sentiment_map.items() if v == predicted_class_label][0]\n",
    "\n",
    "            # Extract SHAP values only for this class\n",
    "            class_shap_values = explanation.values[:, predicted_class]\n",
    "\n",
    "            # Store simplified explanation\n",
    "            simplified_explanations.append({\n",
    "                'text': lang_data['texts'][i],\n",
    "                'predicted_class': predicted_class,\n",
    "                'class_name': predicted_class_label,\n",
    "                'confidence': predicted_class_score,\n",
    "                'shap_values': class_shap_values,\n",
    "                'tokens': explanation.data\n",
    "            })\n",
    "\n",
    "        simplified_results[lang] = simplified_explanations\n",
    "\n",
    "    # Preserve parallel IDs if needed\n",
    "    if 'parallel_ids' in results:\n",
    "        simplified_results['parallel_ids'] = results['parallel_ids']\n",
    "\n",
    "    return simplified_results\n",
    "\n",
    "def add_word_level_explanations(results, tokenizer, dataset_name=\"movie\"):\n",
    "    \"\"\"\n",
    "    Enhance SHAP results with word-level explanations and save processing logs.\n",
    "    \n",
    "    Args:\n",
    "        results: Dictionary containing language-wise SHAP explanations \n",
    "        tokenizer: The HuggingFace tokenizer instance\n",
    "        dataset_name: Prefix for log files ('movie' or 'legal')\n",
    "    \n",
    "    Returns:\n",
    "        Dictionary with added 'words' and 'word_shap_values' for each entry\n",
    "    \"\"\"\n",
    "    # Create logs directory if needed\n",
    "    os.makedirs(\"shap_logs\", exist_ok=True)\n",
    "    \n",
    "    for lang in [k for k in results.keys() if k != 'parallel_ids']:\n",
    "        for i, entry in enumerate(results[lang]):\n",
    "            # Generate log filename\n",
    "            log_file = f\"shap_logs/{dataset_name}_{lang}_{i}.txt\"\n",
    "            \n",
    "            # Process with UTF-8 encoded logging\n",
    "            with open(log_file, 'w', encoding='utf-8') as f:  # Explicit UTF-8 encoding\n",
    "                word_contributions = process_single_text(\n",
    "                    text=entry['text'],\n",
    "                    shap_values=entry['shap_values'],\n",
    "                    tokens=entry['tokens'],\n",
    "                    tokenizer=tokenizer,\n",
    "                    log_file=f\n",
    "                )\n",
    "            \n",
    "            # Add to original results\n",
    "            entry['words'] = list(word_contributions.keys())\n",
    "            entry['word_shap_values'] = list(word_contributions.values())\n",
    "\n",
    "    return results\n",
    "\n",
    "def process_single_text(text, shap_values, tokens, tokenizer, log_file):\n",
    "    \"\"\"Process one text entry with detailed logging.\"\"\"\n",
    "    def log(msg):\n",
    "        print(msg)\n",
    "        if log_file:  # Only write to file if it exists\n",
    "            print(msg, file=log_file)\n",
    "    \n",
    "    log(f\"\\n=== Processing text ===\\n{text}\\n\")\n",
    "    \n",
    "    # Tokenize with character-level offsets\n",
    "    inputs = tokenizer(text, return_offsets_mapping=True)\n",
    "    offsets = inputs[\"offset_mapping\"]\n",
    "    \n",
    "    log(\"\\nTokenization details:\")\n",
    "    log(f\"{'Token':<15} | {'Text':<20} | {'Start':<5} | {'End':<5} | {'SHAP Value':<12}\")\n",
    "    log(\"-\" * 70)\n",
    "    for idx, ((start, end), shap_val) in enumerate(zip(offsets, shap_values)):\n",
    "        token_text = text[start:end] if start != end else tokens[idx]\n",
    "        log(f\"{tokens[idx]:<15} | {repr(token_text):<20} | {start:<5} | {end:<5} | {shap_val:+.6f}\")\n",
    "    \n",
    "    # Reconstruct words using whitespace boundaries\n",
    "    word_contributions = {}\n",
    "    current_word = \"\"\n",
    "    current_contrib = 0.0\n",
    "    word_start = None\n",
    "    \n",
    "    # Get all whitespace positions\n",
    "    whitespaces = [i for i, char in enumerate(text) if char == ' ']\n",
    "    whitespaces.append(len(text))  # Add end of string\n",
    "    \n",
    "    for token_idx, (token, (start, end)) in enumerate(zip(tokens, offsets)):\n",
    "        # Skip special tokens\n",
    "        if start == end == 0:\n",
    "            continue\n",
    "            \n",
    "        # New word starts when we pass a whitespace\n",
    "        if word_start is None or start >= whitespaces[0]:\n",
    "            # Save previous word\n",
    "            if current_word:\n",
    "                word_contributions[current_word] = current_contrib\n",
    "                log(f\"\\nSaved word: '{current_word}' with SHAP {current_contrib:+.6f}\")\n",
    "            \n",
    "            # Start new word\n",
    "            current_word = \"\"\n",
    "            current_contrib = 0.0\n",
    "            word_start = start\n",
    "            # Remove used whitespace\n",
    "            while whitespaces and start >= whitespaces[0]:\n",
    "                whitespaces.pop(0)\n",
    "        \n",
    "        # Add to current word\n",
    "        token_text = text[start:end] if start != end else token\n",
    "        current_word += token_text\n",
    "        current_contrib += shap_values[token_idx]\n",
    "        log(f\"  Added token '{token}' ({start}-{end}) as '{token_text}'\")\n",
    "    \n",
    "    # Add the last word\n",
    "    if current_word:\n",
    "        word_contributions[current_word] = current_contrib\n",
    "        log(f\"\\nSaved final word: '{current_word}' with SHAP {current_contrib:+.6f}\")\n",
    "    \n",
    "    # Replace arrows with text for better compatibility\n",
    "    log(\"\\n=== Final Word Contributions ===\")\n",
    "    for word, contrib in sorted(word_contributions.items(), key=lambda x: abs(x[1]), reverse=True):\n",
    "        direction = \"POS\" if contrib > 0 else \"NEG\"  # Changed from arrows to text\n",
    "        log(f\"{word:<25} {contrib:+.6f} ({direction})\")\n",
    "    \n",
    "    return word_contributions\n",
    "\n",
    "def numpy_encoder(obj):\n",
    "    \"\"\"Convert NumPy types to Python native types for JSON serialization.\"\"\"\n",
    "    if isinstance(obj, (np.int64, np.int32)):\n",
    "        return int(obj)\n",
    "    if isinstance(obj, (np.float64, np.float32)):\n",
    "        return float(obj)\n",
    "    if isinstance(obj, np.ndarray):\n",
    "        return obj.tolist()\n",
    "    raise TypeError(f\"Object of type {type(obj)} is not JSON serializable\")\n",
    "\n",
    "def visualize_shap_explanation(entry, max_line_length=80):\n",
    "    \"\"\"\n",
    "    Visualize word-level SHAP explanations for a single text entry.\n",
    "\n",
    "    Args:\n",
    "        entry: Dictionary containing:\n",
    "               - text: Original text\n",
    "               - words: List of words\n",
    "               - word_shap_values: Corresponding SHAP values\n",
    "               - class_name: Predicted sentiment class\n",
    "               - confidence: Prediction confidence\n",
    "        max_line_length: Maximum characters per line\n",
    "    \"\"\"\n",
    "    text = entry['text']\n",
    "    words = entry['words']\n",
    "    word_shap_values = [float(value) for value in entry['word_shap_values']]\n",
    "    predicted_class = entry['class_name']\n",
    "    confidence = float(entry['confidence'])\n",
    "\n",
    "    # Create word-to-SHAP mapping\n",
    "    word_contributions = dict(zip(words, word_shap_values))\n",
    "\n",
    "    # Text wrapping\n",
    "    lines = textwrap.wrap(text, width=max_line_length)\n",
    "\n",
    "    fig = go.Figure()\n",
    "\n",
    "    # Layout parameters\n",
    "    y_pos = 1.0\n",
    "    char_width = 0.015\n",
    "    line_height = 0.15\n",
    "    line_spacing = 1.2\n",
    "\n",
    "    # Split lines into words with punctuation handling\n",
    "    def split_words(t):\n",
    "        words = []\n",
    "        current_word = \"\"\n",
    "        for char in t + \" \":\n",
    "            if char.isalnum() or char in \"'-\":\n",
    "                current_word += char\n",
    "            else:\n",
    "                if current_word:\n",
    "                    words.append(current_word)\n",
    "                    current_word = \"\"\n",
    "                if char != \" \":\n",
    "                    if words:\n",
    "                        words[-1] += char\n",
    "        return words\n",
    "\n",
    "    shapes = []\n",
    "    annotations = []\n",
    "    hover_data = []\n",
    "\n",
    "    # Calculate max absolute SHAP for scaling\n",
    "    max_abs_shap = max(abs(min(word_shap_values)), abs(max(word_shap_values)))\n",
    "\n",
    "    for line in lines:\n",
    "        line_words = split_words(line)\n",
    "        x_pos = 0.01\n",
    "\n",
    "        for word in line_words:\n",
    "            # Get SHAP value (check both raw and cleaned variants)\n",
    "            contrib = word_contributions.get(word, word_contributions.get(word.strip(\".,!?;:\\\"'\"), 0))\n",
    "\n",
    "            word_width = len(word) * char_width\n",
    "\n",
    "            # Color calculation based on predicted_class\n",
    "            alpha = min(abs(contrib) / max_abs_shap, 1) if max_abs_shap > 0 else 0\n",
    "\n",
    "            if predicted_class in [\"Positive\", \"Very Positive\"]:\n",
    "                positive_color = f\"rgba(0, 128, 0, {alpha})\"  # Green\n",
    "                negative_color = f\"rgba(255, 0, 0, {alpha})\"  # Red\n",
    "                comment = \"Red - supposedly negative words, Green - supposedly positive words\"\n",
    "            elif predicted_class in [\"Negative\", \"Very Negative\"]:\n",
    "                positive_color = f\"rgba(255, 0, 0, {alpha})\"  # Red\n",
    "                negative_color = f\"rgba(0, 128, 0, {alpha})\"  # Green\n",
    "                comment = \"Red - supposedly negative words, Green - supposedly positive words\"\n",
    "            elif predicted_class == \"Neutral\":\n",
    "                positive_color = f\"rgba(255, 165, 0, 0)\"  # Transparent\n",
    "                negative_color = f\"rgba(255, 165, 0, {alpha})\"   # Orange\n",
    "                comment = \"Orange - supposedly non-neutral words, Transparent - supposedly neutral words\"\n",
    "\n",
    "            # Assign color based on contribution\n",
    "            color = negative_color if contrib < 0 else positive_color\n",
    "\n",
    "            # Add colored rectangle\n",
    "            shapes.append(\n",
    "                dict(\n",
    "                    type=\"rect\",\n",
    "                    x0=x_pos,\n",
    "                    y0=y_pos - line_height/2,\n",
    "                    x1=x_pos + word_width,\n",
    "                    y1=y_pos + line_height/2,\n",
    "                    fillcolor=color,\n",
    "                    line=dict(width=0)\n",
    "                )\n",
    "            )\n",
    "\n",
    "            # Add visible word text\n",
    "            annotations.append(\n",
    "                dict(\n",
    "                    x=x_pos + word_width/2,\n",
    "                    y=y_pos,\n",
    "                    text=word,\n",
    "                    showarrow=False,\n",
    "                    font=dict(size=14, color='black')\n",
    "                )\n",
    "            )\n",
    "\n",
    "            # Store hover data with clear interpretation\n",
    "            direction = \"against\" if (contrib < 0) else \"for\"\n",
    "            hover_data.append({\n",
    "                'pos': (x_pos + word_width/2, y_pos),\n",
    "                'text': (\n",
    "                    f\"Word: {word}<br>\"\n",
    "                    f\"SHAP value: {contrib:.3f}<br>\"\n",
    "                    f\"Works {direction} <b>{predicted_class}</b> prediction<br>\"\n",
    "                )\n",
    "            })\n",
    "\n",
    "            x_pos += word_width + (char_width/2)\n",
    "\n",
    "        y_pos -= line_height * line_spacing\n",
    "\n",
    "    # Add invisible hover points\n",
    "    fig.add_trace(\n",
    "        go.Scatter(\n",
    "            x=[d['pos'][0] for d in hover_data],\n",
    "            y=[d['pos'][1] for d in hover_data],\n",
    "            text=[d['text'] for d in hover_data],\n",
    "            mode=\"markers\",\n",
    "            marker=dict(size=10, opacity=0),\n",
    "            hoverinfo=\"text\",\n",
    "            showlegend=False,\n",
    "            hoverlabel=dict(\n",
    "                bgcolor=\"white\",\n",
    "                font_size=12,\n",
    "                font_family=\"Arial\"\n",
    "            )\n",
    "        )\n",
    "    )\n",
    "\n",
    "    # Configure layout\n",
    "    fig.update_layout(\n",
    "        shapes=shapes,\n",
    "        annotations=annotations,\n",
    "        plot_bgcolor=\"white\",\n",
    "        xaxis=dict(showgrid=False, zeroline=False, range=[0, 1], visible=False),\n",
    "        yaxis=dict(showgrid=False, zeroline=False, range=[y_pos - line_height*2, 1.1], visible=False),\n",
    "        margin=dict(l=20, r=20, t=60, b=0.1),\n",
    "        title=(\n",
    "            f\"Predicted: {predicted_class} ({confidence:.1%} confidence)<br>\"\n",
    "            f\"<sup>{comment}</sup>\"\n",
    "        ),\n",
    "        hoverdistance=20,\n",
    "        showlegend=False\n",
    "    )\n",
    "\n",
    "    fig.show()\n"
   ]
  },
  {
   "cell_type": "markdown",
   "metadata": {},
   "source": [
    "## Explain the predictions"
   ]
  },
  {
   "cell_type": "markdown",
   "metadata": {},
   "source": [
    "### Movie parallel subtitles"
   ]
  },
  {
   "cell_type": "code",
   "execution_count": null,
   "metadata": {},
   "outputs": [],
   "source": [
    "# Load your datasets\n",
    "df_movie = pd.read_csv(\"movie.csv\")       # Columns: id, english, russian, italian\n",
    "\n",
    "# Process datasets with parallel structure preserved (token-level explanations)\n",
    "movie_results = explain_parallel_texts(df_movie, [\"english\", \"russian\", \"italian\"], explainer)\n",
    "\n",
    "# Extract top class explanation\n",
    "simple_movie = extract_top_class_explanations(movie_results)\n",
    "\n",
    "# Word-level explanations (+logs)\n",
    "simple_movie = add_word_level_explanations(simple_movie, tokenizer, \"movie\")\n",
    "\n",
    "# Save to JSON file\n",
    "with open('simple_movie.json', 'w', encoding='utf-8') as f:\n",
    "    json.dump(simple_movie, f, indent=2, ensure_ascii=False, default=numpy_encoder)"
   ]
  },
  {
   "cell_type": "markdown",
   "metadata": {},
   "source": [
    "### AI Act Parallel"
   ]
  },
  {
   "cell_type": "code",
   "execution_count": null,
   "metadata": {},
   "outputs": [],
   "source": [
    "# Load your datasets\n",
    "df_legal = pd.read_csv(\"ai_act.csv\")      # Columns: id, article, english, italian\n",
    "\n",
    "# Process datasets with parallel structure preserved (token-level explanations)\n",
    "legal_results = explain_parallel_texts(df_legal, [\"english\", \"italian\"], explainer)\n",
    "\n",
    "# Extract top class explanation\n",
    "simple_legal = extract_top_class_explanations(legal_results)\n",
    "\n",
    "# Word-level explanations (+logs)\n",
    "simple_legal = add_word_level_explanations(simple_legal, tokenizer, \"legal\")\n",
    "\n",
    "# Save to JSON file\n",
    "with open('simple_legal.json', 'w', encoding='utf-8') as f:\n",
    "    json.dump(simple_legal, f, indent=2, ensure_ascii=False, default=numpy_encoder)"
   ]
  },
  {
   "cell_type": "markdown",
   "metadata": {},
   "source": [
    "## Visualization"
   ]
  },
  {
   "cell_type": "markdown",
   "metadata": {},
   "source": [
    "### Load the data (optional)"
   ]
  },
  {
   "cell_type": "code",
   "execution_count": 4,
   "metadata": {},
   "outputs": [],
   "source": [
    "with open('simple_legal.json', 'r', encoding='utf-8') as f:\n",
    "    simple_legal1 = json.load(f, parse_float=Decimal)\n",
    "\n",
    "with open('simple_movie.json', 'r', encoding='utf-8') as f:\n",
    "    simple_movie1 = json.load(f, parse_float=Decimal)"
   ]
  },
  {
   "cell_type": "markdown",
   "metadata": {},
   "source": [
    "### Custom Visualization"
   ]
  },
  {
   "cell_type": "code",
   "execution_count": 6,
   "metadata": {},
   "outputs": [
    {
     "data": {
      "application/vnd.plotly.v1+json": {
       "config": {
        "plotlyServerURL": "https://plot.ly"
       },
       "data": [
        {
         "hoverinfo": "text",
         "hoverlabel": {
          "bgcolor": "white",
          "font": {
           "family": "Arial",
           "size": 12
          }
         },
         "marker": {
          "opacity": 0,
          "size": 10
         },
         "mode": "markers",
         "showlegend": false,
         "text": [
          "Word: Mathematicians<br>SHAP value: 0.016<br>Works for <b>Very Negative</b> prediction<br>",
          "Word: won<br>SHAP value: -0.056<br>Works against <b>Very Negative</b> prediction<br>",
          "Word: the<br>SHAP value: -0.023<br>Works against <b>Very Negative</b> prediction<br>",
          "Word: war.<br>SHAP value: 0.108<br>Works for <b>Very Negative</b> prediction<br>",
          "Word: Mathematicians<br>SHAP value: 0.016<br>Works for <b>Very Negative</b> prediction<br>",
          "Word: broke<br>SHAP value: 0.152<br>Works for <b>Very Negative</b> prediction<br>",
          "Word: the<br>SHAP value: -0.023<br>Works against <b>Very Negative</b> prediction<br>",
          "Word: Japanese<br>SHAP value: 0.002<br>Works for <b>Very Negative</b> prediction<br>",
          "Word: codes<br>SHAP value: -0.012<br>Works against <b>Very Negative</b> prediction<br>",
          "Word: and<br>SHAP value: -0.012<br>Works against <b>Very Negative</b> prediction<br>",
          "Word: built<br>SHAP value: -0.065<br>Works against <b>Very Negative</b> prediction<br>",
          "Word: the<br>SHAP value: -0.023<br>Works against <b>Very Negative</b> prediction<br>",
          "Word: A-bomb.<br>SHAP value: 0.114<br>Works for <b>Very Negative</b> prediction<br>",
          "Word: Mathematicians,<br>SHAP value: 0.013<br>Works for <b>Very Negative</b> prediction<br>",
          "Word: like<br>SHAP value: -0.007<br>Works against <b>Very Negative</b> prediction<br>",
          "Word: you.<br>SHAP value: -0.017<br>Works against <b>Very Negative</b> prediction<br>"
         ],
         "type": "scatter",
         "x": [
          0.11499999999999999,
          0.25,
          0.30250000000000005,
          0.36250000000000004,
          0.505,
          0.655,
          0.7225,
          0.8125,
          0.9175000000000001,
          0.9850000000000001,
          1.0525000000000002,
          0.0325,
          0.11499999999999999,
          0.2875,
          0.4375,
          0.505
         ],
         "y": [
          1,
          1,
          1,
          1,
          1,
          1,
          1,
          1,
          1,
          1,
          1,
          0.8200000000000001,
          0.8200000000000001,
          0.8200000000000001,
          0.8200000000000001,
          0.8200000000000001
         ]
        }
       ],
       "layout": {
        "annotations": [
         {
          "font": {
           "color": "black",
           "size": 14
          },
          "showarrow": false,
          "text": "Mathematicians",
          "x": 0.11499999999999999,
          "y": 1
         },
         {
          "font": {
           "color": "black",
           "size": 14
          },
          "showarrow": false,
          "text": "won",
          "x": 0.25,
          "y": 1
         },
         {
          "font": {
           "color": "black",
           "size": 14
          },
          "showarrow": false,
          "text": "the",
          "x": 0.30250000000000005,
          "y": 1
         },
         {
          "font": {
           "color": "black",
           "size": 14
          },
          "showarrow": false,
          "text": "war.",
          "x": 0.36250000000000004,
          "y": 1
         },
         {
          "font": {
           "color": "black",
           "size": 14
          },
          "showarrow": false,
          "text": "Mathematicians",
          "x": 0.505,
          "y": 1
         },
         {
          "font": {
           "color": "black",
           "size": 14
          },
          "showarrow": false,
          "text": "broke",
          "x": 0.655,
          "y": 1
         },
         {
          "font": {
           "color": "black",
           "size": 14
          },
          "showarrow": false,
          "text": "the",
          "x": 0.7225,
          "y": 1
         },
         {
          "font": {
           "color": "black",
           "size": 14
          },
          "showarrow": false,
          "text": "Japanese",
          "x": 0.8125,
          "y": 1
         },
         {
          "font": {
           "color": "black",
           "size": 14
          },
          "showarrow": false,
          "text": "codes",
          "x": 0.9175000000000001,
          "y": 1
         },
         {
          "font": {
           "color": "black",
           "size": 14
          },
          "showarrow": false,
          "text": "and",
          "x": 0.9850000000000001,
          "y": 1
         },
         {
          "font": {
           "color": "black",
           "size": 14
          },
          "showarrow": false,
          "text": "built",
          "x": 1.0525000000000002,
          "y": 1
         },
         {
          "font": {
           "color": "black",
           "size": 14
          },
          "showarrow": false,
          "text": "the",
          "x": 0.0325,
          "y": 0.8200000000000001
         },
         {
          "font": {
           "color": "black",
           "size": 14
          },
          "showarrow": false,
          "text": "A-bomb.",
          "x": 0.11499999999999999,
          "y": 0.8200000000000001
         },
         {
          "font": {
           "color": "black",
           "size": 14
          },
          "showarrow": false,
          "text": "Mathematicians,",
          "x": 0.2875,
          "y": 0.8200000000000001
         },
         {
          "font": {
           "color": "black",
           "size": 14
          },
          "showarrow": false,
          "text": "like",
          "x": 0.4375,
          "y": 0.8200000000000001
         },
         {
          "font": {
           "color": "black",
           "size": 14
          },
          "showarrow": false,
          "text": "you.",
          "x": 0.505,
          "y": 0.8200000000000001
         }
        ],
        "hoverdistance": 20,
        "margin": {
         "b": 0.1,
         "l": 20,
         "r": 20,
         "t": 60
        },
        "plot_bgcolor": "white",
        "shapes": [
         {
          "fillcolor": "rgba(255, 0, 0, 0.10782295110814955)",
          "line": {
           "width": 0
          },
          "type": "rect",
          "x0": 0.01,
          "x1": 0.22,
          "y0": 0.925,
          "y1": 1.075
         },
         {
          "fillcolor": "rgba(0, 128, 0, 0.37014940839775656)",
          "line": {
           "width": 0
          },
          "type": "rect",
          "x0": 0.2275,
          "x1": 0.2725,
          "y0": 0.925,
          "y1": 1.075
         },
         {
          "fillcolor": "rgba(0, 128, 0, 0.15414997106408312)",
          "line": {
           "width": 0
          },
          "type": "rect",
          "x0": 0.28,
          "x1": 0.325,
          "y0": 0.925,
          "y1": 1.075
         },
         {
          "fillcolor": "rgba(255, 0, 0, 0.70933480244093)",
          "line": {
           "width": 0
          },
          "type": "rect",
          "x0": 0.3325,
          "x1": 0.3925,
          "y0": 0.925,
          "y1": 1.075
         },
         {
          "fillcolor": "rgba(255, 0, 0, 0.10782295110814955)",
          "line": {
           "width": 0
          },
          "type": "rect",
          "x0": 0.4,
          "x1": 0.61,
          "y0": 0.925,
          "y1": 1.075
         },
         {
          "fillcolor": "rgba(255, 0, 0, 1.0)",
          "line": {
           "width": 0
          },
          "type": "rect",
          "x0": 0.6175,
          "x1": 0.6925,
          "y0": 0.925,
          "y1": 1.075
         },
         {
          "fillcolor": "rgba(0, 128, 0, 0.15414997106408312)",
          "line": {
           "width": 0
          },
          "type": "rect",
          "x0": 0.7000000000000001,
          "x1": 0.7450000000000001,
          "y0": 0.925,
          "y1": 1.075
         },
         {
          "fillcolor": "rgba(255, 0, 0, 0.012951916471223046)",
          "line": {
           "width": 0
          },
          "type": "rect",
          "x0": 0.7525000000000001,
          "x1": 0.8725,
          "y0": 0.925,
          "y1": 1.075
         },
         {
          "fillcolor": "rgba(0, 128, 0, 0.08171463556202088)",
          "line": {
           "width": 0
          },
          "type": "rect",
          "x0": 0.8800000000000001,
          "x1": 0.9550000000000001,
          "y0": 0.925,
          "y1": 1.075
         },
         {
          "fillcolor": "rgba(0, 128, 0, 0.08041722719527662)",
          "line": {
           "width": 0
          },
          "type": "rect",
          "x0": 0.9625000000000001,
          "x1": 1.0075,
          "y0": 0.925,
          "y1": 1.075
         },
         {
          "fillcolor": "rgba(0, 128, 0, 0.4273708776734157)",
          "line": {
           "width": 0
          },
          "type": "rect",
          "x0": 1.0150000000000001,
          "x1": 1.09,
          "y0": 0.925,
          "y1": 1.075
         },
         {
          "fillcolor": "rgba(0, 128, 0, 0.15414997106408312)",
          "line": {
           "width": 0
          },
          "type": "rect",
          "x0": 0.01,
          "x1": 0.055,
          "y0": 0.7450000000000001,
          "y1": 0.895
         },
         {
          "fillcolor": "rgba(255, 0, 0, 0.7452516794705927)",
          "line": {
           "width": 0
          },
          "type": "rect",
          "x0": 0.0625,
          "x1": 0.16749999999999998,
          "y0": 0.7450000000000001,
          "y1": 0.895
         },
         {
          "fillcolor": "rgba(255, 0, 0, 0.08793627703209551)",
          "line": {
           "width": 0
          },
          "type": "rect",
          "x0": 0.175,
          "x1": 0.39999999999999997,
          "y0": 0.7450000000000001,
          "y1": 0.895
         },
         {
          "fillcolor": "rgba(0, 128, 0, 0.04454106822595245)",
          "line": {
           "width": 0
          },
          "type": "rect",
          "x0": 0.4075,
          "x1": 0.46749999999999997,
          "y0": 0.7450000000000001,
          "y1": 0.895
         },
         {
          "fillcolor": "rgba(0, 128, 0, 0.1141817543973589)",
          "line": {
           "width": 0
          },
          "type": "rect",
          "x0": 0.475,
          "x1": 0.5349999999999999,
          "y0": 0.7450000000000001,
          "y1": 0.895
         }
        ],
        "showlegend": false,
        "template": {
         "data": {
          "bar": [
           {
            "error_x": {
             "color": "#2a3f5f"
            },
            "error_y": {
             "color": "#2a3f5f"
            },
            "marker": {
             "line": {
              "color": "#E5ECF6",
              "width": 0.5
             },
             "pattern": {
              "fillmode": "overlay",
              "size": 10,
              "solidity": 0.2
             }
            },
            "type": "bar"
           }
          ],
          "barpolar": [
           {
            "marker": {
             "line": {
              "color": "#E5ECF6",
              "width": 0.5
             },
             "pattern": {
              "fillmode": "overlay",
              "size": 10,
              "solidity": 0.2
             }
            },
            "type": "barpolar"
           }
          ],
          "carpet": [
           {
            "aaxis": {
             "endlinecolor": "#2a3f5f",
             "gridcolor": "white",
             "linecolor": "white",
             "minorgridcolor": "white",
             "startlinecolor": "#2a3f5f"
            },
            "baxis": {
             "endlinecolor": "#2a3f5f",
             "gridcolor": "white",
             "linecolor": "white",
             "minorgridcolor": "white",
             "startlinecolor": "#2a3f5f"
            },
            "type": "carpet"
           }
          ],
          "choropleth": [
           {
            "colorbar": {
             "outlinewidth": 0,
             "ticks": ""
            },
            "type": "choropleth"
           }
          ],
          "contour": [
           {
            "colorbar": {
             "outlinewidth": 0,
             "ticks": ""
            },
            "colorscale": [
             [
              0,
              "#0d0887"
             ],
             [
              0.1111111111111111,
              "#46039f"
             ],
             [
              0.2222222222222222,
              "#7201a8"
             ],
             [
              0.3333333333333333,
              "#9c179e"
             ],
             [
              0.4444444444444444,
              "#bd3786"
             ],
             [
              0.5555555555555556,
              "#d8576b"
             ],
             [
              0.6666666666666666,
              "#ed7953"
             ],
             [
              0.7777777777777778,
              "#fb9f3a"
             ],
             [
              0.8888888888888888,
              "#fdca26"
             ],
             [
              1,
              "#f0f921"
             ]
            ],
            "type": "contour"
           }
          ],
          "contourcarpet": [
           {
            "colorbar": {
             "outlinewidth": 0,
             "ticks": ""
            },
            "type": "contourcarpet"
           }
          ],
          "heatmap": [
           {
            "colorbar": {
             "outlinewidth": 0,
             "ticks": ""
            },
            "colorscale": [
             [
              0,
              "#0d0887"
             ],
             [
              0.1111111111111111,
              "#46039f"
             ],
             [
              0.2222222222222222,
              "#7201a8"
             ],
             [
              0.3333333333333333,
              "#9c179e"
             ],
             [
              0.4444444444444444,
              "#bd3786"
             ],
             [
              0.5555555555555556,
              "#d8576b"
             ],
             [
              0.6666666666666666,
              "#ed7953"
             ],
             [
              0.7777777777777778,
              "#fb9f3a"
             ],
             [
              0.8888888888888888,
              "#fdca26"
             ],
             [
              1,
              "#f0f921"
             ]
            ],
            "type": "heatmap"
           }
          ],
          "histogram": [
           {
            "marker": {
             "pattern": {
              "fillmode": "overlay",
              "size": 10,
              "solidity": 0.2
             }
            },
            "type": "histogram"
           }
          ],
          "histogram2d": [
           {
            "colorbar": {
             "outlinewidth": 0,
             "ticks": ""
            },
            "colorscale": [
             [
              0,
              "#0d0887"
             ],
             [
              0.1111111111111111,
              "#46039f"
             ],
             [
              0.2222222222222222,
              "#7201a8"
             ],
             [
              0.3333333333333333,
              "#9c179e"
             ],
             [
              0.4444444444444444,
              "#bd3786"
             ],
             [
              0.5555555555555556,
              "#d8576b"
             ],
             [
              0.6666666666666666,
              "#ed7953"
             ],
             [
              0.7777777777777778,
              "#fb9f3a"
             ],
             [
              0.8888888888888888,
              "#fdca26"
             ],
             [
              1,
              "#f0f921"
             ]
            ],
            "type": "histogram2d"
           }
          ],
          "histogram2dcontour": [
           {
            "colorbar": {
             "outlinewidth": 0,
             "ticks": ""
            },
            "colorscale": [
             [
              0,
              "#0d0887"
             ],
             [
              0.1111111111111111,
              "#46039f"
             ],
             [
              0.2222222222222222,
              "#7201a8"
             ],
             [
              0.3333333333333333,
              "#9c179e"
             ],
             [
              0.4444444444444444,
              "#bd3786"
             ],
             [
              0.5555555555555556,
              "#d8576b"
             ],
             [
              0.6666666666666666,
              "#ed7953"
             ],
             [
              0.7777777777777778,
              "#fb9f3a"
             ],
             [
              0.8888888888888888,
              "#fdca26"
             ],
             [
              1,
              "#f0f921"
             ]
            ],
            "type": "histogram2dcontour"
           }
          ],
          "mesh3d": [
           {
            "colorbar": {
             "outlinewidth": 0,
             "ticks": ""
            },
            "type": "mesh3d"
           }
          ],
          "parcoords": [
           {
            "line": {
             "colorbar": {
              "outlinewidth": 0,
              "ticks": ""
             }
            },
            "type": "parcoords"
           }
          ],
          "pie": [
           {
            "automargin": true,
            "type": "pie"
           }
          ],
          "scatter": [
           {
            "fillpattern": {
             "fillmode": "overlay",
             "size": 10,
             "solidity": 0.2
            },
            "type": "scatter"
           }
          ],
          "scatter3d": [
           {
            "line": {
             "colorbar": {
              "outlinewidth": 0,
              "ticks": ""
             }
            },
            "marker": {
             "colorbar": {
              "outlinewidth": 0,
              "ticks": ""
             }
            },
            "type": "scatter3d"
           }
          ],
          "scattercarpet": [
           {
            "marker": {
             "colorbar": {
              "outlinewidth": 0,
              "ticks": ""
             }
            },
            "type": "scattercarpet"
           }
          ],
          "scattergeo": [
           {
            "marker": {
             "colorbar": {
              "outlinewidth": 0,
              "ticks": ""
             }
            },
            "type": "scattergeo"
           }
          ],
          "scattergl": [
           {
            "marker": {
             "colorbar": {
              "outlinewidth": 0,
              "ticks": ""
             }
            },
            "type": "scattergl"
           }
          ],
          "scattermap": [
           {
            "marker": {
             "colorbar": {
              "outlinewidth": 0,
              "ticks": ""
             }
            },
            "type": "scattermap"
           }
          ],
          "scattermapbox": [
           {
            "marker": {
             "colorbar": {
              "outlinewidth": 0,
              "ticks": ""
             }
            },
            "type": "scattermapbox"
           }
          ],
          "scatterpolar": [
           {
            "marker": {
             "colorbar": {
              "outlinewidth": 0,
              "ticks": ""
             }
            },
            "type": "scatterpolar"
           }
          ],
          "scatterpolargl": [
           {
            "marker": {
             "colorbar": {
              "outlinewidth": 0,
              "ticks": ""
             }
            },
            "type": "scatterpolargl"
           }
          ],
          "scatterternary": [
           {
            "marker": {
             "colorbar": {
              "outlinewidth": 0,
              "ticks": ""
             }
            },
            "type": "scatterternary"
           }
          ],
          "surface": [
           {
            "colorbar": {
             "outlinewidth": 0,
             "ticks": ""
            },
            "colorscale": [
             [
              0,
              "#0d0887"
             ],
             [
              0.1111111111111111,
              "#46039f"
             ],
             [
              0.2222222222222222,
              "#7201a8"
             ],
             [
              0.3333333333333333,
              "#9c179e"
             ],
             [
              0.4444444444444444,
              "#bd3786"
             ],
             [
              0.5555555555555556,
              "#d8576b"
             ],
             [
              0.6666666666666666,
              "#ed7953"
             ],
             [
              0.7777777777777778,
              "#fb9f3a"
             ],
             [
              0.8888888888888888,
              "#fdca26"
             ],
             [
              1,
              "#f0f921"
             ]
            ],
            "type": "surface"
           }
          ],
          "table": [
           {
            "cells": {
             "fill": {
              "color": "#EBF0F8"
             },
             "line": {
              "color": "white"
             }
            },
            "header": {
             "fill": {
              "color": "#C8D4E3"
             },
             "line": {
              "color": "white"
             }
            },
            "type": "table"
           }
          ]
         },
         "layout": {
          "annotationdefaults": {
           "arrowcolor": "#2a3f5f",
           "arrowhead": 0,
           "arrowwidth": 1
          },
          "autotypenumbers": "strict",
          "coloraxis": {
           "colorbar": {
            "outlinewidth": 0,
            "ticks": ""
           }
          },
          "colorscale": {
           "diverging": [
            [
             0,
             "#8e0152"
            ],
            [
             0.1,
             "#c51b7d"
            ],
            [
             0.2,
             "#de77ae"
            ],
            [
             0.3,
             "#f1b6da"
            ],
            [
             0.4,
             "#fde0ef"
            ],
            [
             0.5,
             "#f7f7f7"
            ],
            [
             0.6,
             "#e6f5d0"
            ],
            [
             0.7,
             "#b8e186"
            ],
            [
             0.8,
             "#7fbc41"
            ],
            [
             0.9,
             "#4d9221"
            ],
            [
             1,
             "#276419"
            ]
           ],
           "sequential": [
            [
             0,
             "#0d0887"
            ],
            [
             0.1111111111111111,
             "#46039f"
            ],
            [
             0.2222222222222222,
             "#7201a8"
            ],
            [
             0.3333333333333333,
             "#9c179e"
            ],
            [
             0.4444444444444444,
             "#bd3786"
            ],
            [
             0.5555555555555556,
             "#d8576b"
            ],
            [
             0.6666666666666666,
             "#ed7953"
            ],
            [
             0.7777777777777778,
             "#fb9f3a"
            ],
            [
             0.8888888888888888,
             "#fdca26"
            ],
            [
             1,
             "#f0f921"
            ]
           ],
           "sequentialminus": [
            [
             0,
             "#0d0887"
            ],
            [
             0.1111111111111111,
             "#46039f"
            ],
            [
             0.2222222222222222,
             "#7201a8"
            ],
            [
             0.3333333333333333,
             "#9c179e"
            ],
            [
             0.4444444444444444,
             "#bd3786"
            ],
            [
             0.5555555555555556,
             "#d8576b"
            ],
            [
             0.6666666666666666,
             "#ed7953"
            ],
            [
             0.7777777777777778,
             "#fb9f3a"
            ],
            [
             0.8888888888888888,
             "#fdca26"
            ],
            [
             1,
             "#f0f921"
            ]
           ]
          },
          "colorway": [
           "#636efa",
           "#EF553B",
           "#00cc96",
           "#ab63fa",
           "#FFA15A",
           "#19d3f3",
           "#FF6692",
           "#B6E880",
           "#FF97FF",
           "#FECB52"
          ],
          "font": {
           "color": "#2a3f5f"
          },
          "geo": {
           "bgcolor": "white",
           "lakecolor": "white",
           "landcolor": "#E5ECF6",
           "showlakes": true,
           "showland": true,
           "subunitcolor": "white"
          },
          "hoverlabel": {
           "align": "left"
          },
          "hovermode": "closest",
          "mapbox": {
           "style": "light"
          },
          "paper_bgcolor": "white",
          "plot_bgcolor": "#E5ECF6",
          "polar": {
           "angularaxis": {
            "gridcolor": "white",
            "linecolor": "white",
            "ticks": ""
           },
           "bgcolor": "#E5ECF6",
           "radialaxis": {
            "gridcolor": "white",
            "linecolor": "white",
            "ticks": ""
           }
          },
          "scene": {
           "xaxis": {
            "backgroundcolor": "#E5ECF6",
            "gridcolor": "white",
            "gridwidth": 2,
            "linecolor": "white",
            "showbackground": true,
            "ticks": "",
            "zerolinecolor": "white"
           },
           "yaxis": {
            "backgroundcolor": "#E5ECF6",
            "gridcolor": "white",
            "gridwidth": 2,
            "linecolor": "white",
            "showbackground": true,
            "ticks": "",
            "zerolinecolor": "white"
           },
           "zaxis": {
            "backgroundcolor": "#E5ECF6",
            "gridcolor": "white",
            "gridwidth": 2,
            "linecolor": "white",
            "showbackground": true,
            "ticks": "",
            "zerolinecolor": "white"
           }
          },
          "shapedefaults": {
           "line": {
            "color": "#2a3f5f"
           }
          },
          "ternary": {
           "aaxis": {
            "gridcolor": "white",
            "linecolor": "white",
            "ticks": ""
           },
           "baxis": {
            "gridcolor": "white",
            "linecolor": "white",
            "ticks": ""
           },
           "bgcolor": "#E5ECF6",
           "caxis": {
            "gridcolor": "white",
            "linecolor": "white",
            "ticks": ""
           }
          },
          "title": {
           "x": 0.05
          },
          "xaxis": {
           "automargin": true,
           "gridcolor": "white",
           "linecolor": "white",
           "ticks": "",
           "title": {
            "standoff": 15
           },
           "zerolinecolor": "white",
           "zerolinewidth": 2
          },
          "yaxis": {
           "automargin": true,
           "gridcolor": "white",
           "linecolor": "white",
           "ticks": "",
           "title": {
            "standoff": 15
           },
           "zerolinecolor": "white",
           "zerolinewidth": 2
          }
         }
        },
        "title": {
         "text": "Predicted: Very Negative (39.2% confidence)<br><sup>Red - supposedly negative words, Green - supposedly positive words</sup>"
        },
        "xaxis": {
         "range": [
          0,
          1
         ],
         "showgrid": false,
         "visible": false,
         "zeroline": false
        },
        "yaxis": {
         "range": [
          0.34000000000000014,
          1.1
         ],
         "showgrid": false,
         "visible": false,
         "zeroline": false
        }
       }
      }
     },
     "metadata": {},
     "output_type": "display_data"
    },
    {
     "data": {
      "application/vnd.plotly.v1+json": {
       "config": {
        "plotlyServerURL": "https://plot.ly"
       },
       "data": [
        {
         "hoverinfo": "text",
         "hoverlabel": {
          "bgcolor": "white",
          "font": {
           "family": "Arial",
           "size": 12
          }
         },
         "marker": {
          "opacity": 0,
          "size": 10
         },
         "mode": "markers",
         "showlegend": false,
         "text": [
          "Word: Математики<br>SHAP value: 0.045<br>Works for <b>Very Negative</b> prediction<br>",
          "Word: выигрывают<br>SHAP value: 0.031<br>Works for <b>Very Negative</b> prediction<br>",
          "Word: войны.<br>SHAP value: 0.072<br>Works for <b>Very Negative</b> prediction<br>",
          "Word: Математики<br>SHAP value: 0.045<br>Works for <b>Very Negative</b> prediction<br>",
          "Word: взламывают<br>SHAP value: 0.043<br>Works for <b>Very Negative</b> prediction<br>",
          "Word: японские<br>SHAP value: -0.003<br>Works against <b>Very Negative</b> prediction<br>",
          "Word: коды...<br>SHAP value: 0.006<br>Works for <b>Very Negative</b> prediction<br>",
          "Word: и<br>SHAP value: -0.010<br>Works against <b>Very Negative</b> prediction<br>",
          "Word: строят<br>SHAP value: -0.027<br>Works against <b>Very Negative</b> prediction<br>",
          "Word: атомные<br>SHAP value: -0.004<br>Works against <b>Very Negative</b> prediction<br>",
          "Word: бомбы.<br>SHAP value: 0.076<br>Works for <b>Very Negative</b> prediction<br>",
          "Word: Математики,<br>SHAP value: 0.043<br>Works for <b>Very Negative</b> prediction<br>",
          "Word: такие<br>SHAP value: -0.001<br>Works against <b>Very Negative</b> prediction<br>",
          "Word: же<br>SHAP value: -0.001<br>Works against <b>Very Negative</b> prediction<br>",
          "Word: как<br>SHAP value: 0.009<br>Works for <b>Very Negative</b> prediction<br>",
          "Word: вы.<br>SHAP value: 0.009<br>Works for <b>Very Negative</b> prediction<br>"
         ],
         "type": "scatter",
         "x": [
          0.08499999999999999,
          0.2425,
          0.37,
          0.4975,
          0.6549999999999999,
          0.7974999999999999,
          0.9175,
          0.985,
          1.045,
          0.0625,
          0.16749999999999998,
          0.3025,
          0.42999999999999994,
          0.49,
          0.5349999999999999,
          0.5874999999999999
         ],
         "y": [
          1,
          1,
          1,
          1,
          1,
          1,
          1,
          1,
          1,
          0.8200000000000001,
          0.8200000000000001,
          0.8200000000000001,
          0.8200000000000001,
          0.8200000000000001,
          0.8200000000000001,
          0.8200000000000001
         ]
        }
       ],
       "layout": {
        "annotations": [
         {
          "font": {
           "color": "black",
           "size": 14
          },
          "showarrow": false,
          "text": "Математики",
          "x": 0.08499999999999999,
          "y": 1
         },
         {
          "font": {
           "color": "black",
           "size": 14
          },
          "showarrow": false,
          "text": "выигрывают",
          "x": 0.2425,
          "y": 1
         },
         {
          "font": {
           "color": "black",
           "size": 14
          },
          "showarrow": false,
          "text": "войны.",
          "x": 0.37,
          "y": 1
         },
         {
          "font": {
           "color": "black",
           "size": 14
          },
          "showarrow": false,
          "text": "Математики",
          "x": 0.4975,
          "y": 1
         },
         {
          "font": {
           "color": "black",
           "size": 14
          },
          "showarrow": false,
          "text": "взламывают",
          "x": 0.6549999999999999,
          "y": 1
         },
         {
          "font": {
           "color": "black",
           "size": 14
          },
          "showarrow": false,
          "text": "японские",
          "x": 0.7974999999999999,
          "y": 1
         },
         {
          "font": {
           "color": "black",
           "size": 14
          },
          "showarrow": false,
          "text": "коды...",
          "x": 0.9175,
          "y": 1
         },
         {
          "font": {
           "color": "black",
           "size": 14
          },
          "showarrow": false,
          "text": "и",
          "x": 0.985,
          "y": 1
         },
         {
          "font": {
           "color": "black",
           "size": 14
          },
          "showarrow": false,
          "text": "строят",
          "x": 1.045,
          "y": 1
         },
         {
          "font": {
           "color": "black",
           "size": 14
          },
          "showarrow": false,
          "text": "атомные",
          "x": 0.0625,
          "y": 0.8200000000000001
         },
         {
          "font": {
           "color": "black",
           "size": 14
          },
          "showarrow": false,
          "text": "бомбы.",
          "x": 0.16749999999999998,
          "y": 0.8200000000000001
         },
         {
          "font": {
           "color": "black",
           "size": 14
          },
          "showarrow": false,
          "text": "Математики,",
          "x": 0.3025,
          "y": 0.8200000000000001
         },
         {
          "font": {
           "color": "black",
           "size": 14
          },
          "showarrow": false,
          "text": "такие",
          "x": 0.42999999999999994,
          "y": 0.8200000000000001
         },
         {
          "font": {
           "color": "black",
           "size": 14
          },
          "showarrow": false,
          "text": "же",
          "x": 0.49,
          "y": 0.8200000000000001
         },
         {
          "font": {
           "color": "black",
           "size": 14
          },
          "showarrow": false,
          "text": "как",
          "x": 0.5349999999999999,
          "y": 0.8200000000000001
         },
         {
          "font": {
           "color": "black",
           "size": 14
          },
          "showarrow": false,
          "text": "вы.",
          "x": 0.5874999999999999,
          "y": 0.8200000000000001
         }
        ],
        "hoverdistance": 20,
        "margin": {
         "b": 0.1,
         "l": 20,
         "r": 20,
         "t": 60
        },
        "plot_bgcolor": "white",
        "shapes": [
         {
          "fillcolor": "rgba(255, 0, 0, 0.5881078723490579)",
          "line": {
           "width": 0
          },
          "type": "rect",
          "x0": 0.01,
          "x1": 0.16,
          "y0": 0.925,
          "y1": 1.075
         },
         {
          "fillcolor": "rgba(255, 0, 0, 0.40676751024733676)",
          "line": {
           "width": 0
          },
          "type": "rect",
          "x0": 0.1675,
          "x1": 0.3175,
          "y0": 0.925,
          "y1": 1.075
         },
         {
          "fillcolor": "rgba(255, 0, 0, 0.9440982511370246)",
          "line": {
           "width": 0
          },
          "type": "rect",
          "x0": 0.325,
          "x1": 0.41500000000000004,
          "y0": 0.925,
          "y1": 1.075
         },
         {
          "fillcolor": "rgba(255, 0, 0, 0.5881078723490579)",
          "line": {
           "width": 0
          },
          "type": "rect",
          "x0": 0.4225,
          "x1": 0.5725,
          "y0": 0.925,
          "y1": 1.075
         },
         {
          "fillcolor": "rgba(255, 0, 0, 0.5690463785468749)",
          "line": {
           "width": 0
          },
          "type": "rect",
          "x0": 0.58,
          "x1": 0.73,
          "y0": 0.925,
          "y1": 1.075
         },
         {
          "fillcolor": "rgba(0, 128, 0, 0.0333262357020987)",
          "line": {
           "width": 0
          },
          "type": "rect",
          "x0": 0.7374999999999999,
          "x1": 0.8574999999999999,
          "y0": 0.925,
          "y1": 1.075
         },
         {
          "fillcolor": "rgba(255, 0, 0, 0.0829988409365901)",
          "line": {
           "width": 0
          },
          "type": "rect",
          "x0": 0.865,
          "x1": 0.97,
          "y0": 0.925,
          "y1": 1.075
         },
         {
          "fillcolor": "rgba(0, 128, 0, 0.1303808231564799)",
          "line": {
           "width": 0
          },
          "type": "rect",
          "x0": 0.9775,
          "x1": 0.9925,
          "y0": 0.925,
          "y1": 1.075
         },
         {
          "fillcolor": "rgba(0, 128, 0, 0.3520067786101028)",
          "line": {
           "width": 0
          },
          "type": "rect",
          "x0": 1,
          "x1": 1.09,
          "y0": 0.925,
          "y1": 1.075
         },
         {
          "fillcolor": "rgba(0, 128, 0, 0.05017150734131881)",
          "line": {
           "width": 0
          },
          "type": "rect",
          "x0": 0.01,
          "x1": 0.11499999999999999,
          "y0": 0.7450000000000001,
          "y1": 0.895
         },
         {
          "fillcolor": "rgba(255, 0, 0, 1.0)",
          "line": {
           "width": 0
          },
          "type": "rect",
          "x0": 0.12249999999999998,
          "x1": 0.21249999999999997,
          "y0": 0.7450000000000001,
          "y1": 0.895
         },
         {
          "fillcolor": "rgba(255, 0, 0, 0.558785208615864)",
          "line": {
           "width": 0
          },
          "type": "rect",
          "x0": 0.21999999999999997,
          "x1": 0.38499999999999995,
          "y0": 0.7450000000000001,
          "y1": 0.895
         },
         {
          "fillcolor": "rgba(0, 128, 0, 0.018351827742089804)",
          "line": {
           "width": 0
          },
          "type": "rect",
          "x0": 0.39249999999999996,
          "x1": 0.46749999999999997,
          "y0": 0.7450000000000001,
          "y1": 0.895
         },
         {
          "fillcolor": "rgba(0, 128, 0, 0.018351827742089804)",
          "line": {
           "width": 0
          },
          "type": "rect",
          "x0": 0.475,
          "x1": 0.505,
          "y0": 0.7450000000000001,
          "y1": 0.895
         },
         {
          "fillcolor": "rgba(255, 0, 0, 0.11685933513655451)",
          "line": {
           "width": 0
          },
          "type": "rect",
          "x0": 0.5125,
          "x1": 0.5575,
          "y0": 0.7450000000000001,
          "y1": 0.895
         },
         {
          "fillcolor": "rgba(255, 0, 0, 0.11403650302559691)",
          "line": {
           "width": 0
          },
          "type": "rect",
          "x0": 0.565,
          "x1": 0.61,
          "y0": 0.7450000000000001,
          "y1": 0.895
         }
        ],
        "showlegend": false,
        "template": {
         "data": {
          "bar": [
           {
            "error_x": {
             "color": "#2a3f5f"
            },
            "error_y": {
             "color": "#2a3f5f"
            },
            "marker": {
             "line": {
              "color": "#E5ECF6",
              "width": 0.5
             },
             "pattern": {
              "fillmode": "overlay",
              "size": 10,
              "solidity": 0.2
             }
            },
            "type": "bar"
           }
          ],
          "barpolar": [
           {
            "marker": {
             "line": {
              "color": "#E5ECF6",
              "width": 0.5
             },
             "pattern": {
              "fillmode": "overlay",
              "size": 10,
              "solidity": 0.2
             }
            },
            "type": "barpolar"
           }
          ],
          "carpet": [
           {
            "aaxis": {
             "endlinecolor": "#2a3f5f",
             "gridcolor": "white",
             "linecolor": "white",
             "minorgridcolor": "white",
             "startlinecolor": "#2a3f5f"
            },
            "baxis": {
             "endlinecolor": "#2a3f5f",
             "gridcolor": "white",
             "linecolor": "white",
             "minorgridcolor": "white",
             "startlinecolor": "#2a3f5f"
            },
            "type": "carpet"
           }
          ],
          "choropleth": [
           {
            "colorbar": {
             "outlinewidth": 0,
             "ticks": ""
            },
            "type": "choropleth"
           }
          ],
          "contour": [
           {
            "colorbar": {
             "outlinewidth": 0,
             "ticks": ""
            },
            "colorscale": [
             [
              0,
              "#0d0887"
             ],
             [
              0.1111111111111111,
              "#46039f"
             ],
             [
              0.2222222222222222,
              "#7201a8"
             ],
             [
              0.3333333333333333,
              "#9c179e"
             ],
             [
              0.4444444444444444,
              "#bd3786"
             ],
             [
              0.5555555555555556,
              "#d8576b"
             ],
             [
              0.6666666666666666,
              "#ed7953"
             ],
             [
              0.7777777777777778,
              "#fb9f3a"
             ],
             [
              0.8888888888888888,
              "#fdca26"
             ],
             [
              1,
              "#f0f921"
             ]
            ],
            "type": "contour"
           }
          ],
          "contourcarpet": [
           {
            "colorbar": {
             "outlinewidth": 0,
             "ticks": ""
            },
            "type": "contourcarpet"
           }
          ],
          "heatmap": [
           {
            "colorbar": {
             "outlinewidth": 0,
             "ticks": ""
            },
            "colorscale": [
             [
              0,
              "#0d0887"
             ],
             [
              0.1111111111111111,
              "#46039f"
             ],
             [
              0.2222222222222222,
              "#7201a8"
             ],
             [
              0.3333333333333333,
              "#9c179e"
             ],
             [
              0.4444444444444444,
              "#bd3786"
             ],
             [
              0.5555555555555556,
              "#d8576b"
             ],
             [
              0.6666666666666666,
              "#ed7953"
             ],
             [
              0.7777777777777778,
              "#fb9f3a"
             ],
             [
              0.8888888888888888,
              "#fdca26"
             ],
             [
              1,
              "#f0f921"
             ]
            ],
            "type": "heatmap"
           }
          ],
          "histogram": [
           {
            "marker": {
             "pattern": {
              "fillmode": "overlay",
              "size": 10,
              "solidity": 0.2
             }
            },
            "type": "histogram"
           }
          ],
          "histogram2d": [
           {
            "colorbar": {
             "outlinewidth": 0,
             "ticks": ""
            },
            "colorscale": [
             [
              0,
              "#0d0887"
             ],
             [
              0.1111111111111111,
              "#46039f"
             ],
             [
              0.2222222222222222,
              "#7201a8"
             ],
             [
              0.3333333333333333,
              "#9c179e"
             ],
             [
              0.4444444444444444,
              "#bd3786"
             ],
             [
              0.5555555555555556,
              "#d8576b"
             ],
             [
              0.6666666666666666,
              "#ed7953"
             ],
             [
              0.7777777777777778,
              "#fb9f3a"
             ],
             [
              0.8888888888888888,
              "#fdca26"
             ],
             [
              1,
              "#f0f921"
             ]
            ],
            "type": "histogram2d"
           }
          ],
          "histogram2dcontour": [
           {
            "colorbar": {
             "outlinewidth": 0,
             "ticks": ""
            },
            "colorscale": [
             [
              0,
              "#0d0887"
             ],
             [
              0.1111111111111111,
              "#46039f"
             ],
             [
              0.2222222222222222,
              "#7201a8"
             ],
             [
              0.3333333333333333,
              "#9c179e"
             ],
             [
              0.4444444444444444,
              "#bd3786"
             ],
             [
              0.5555555555555556,
              "#d8576b"
             ],
             [
              0.6666666666666666,
              "#ed7953"
             ],
             [
              0.7777777777777778,
              "#fb9f3a"
             ],
             [
              0.8888888888888888,
              "#fdca26"
             ],
             [
              1,
              "#f0f921"
             ]
            ],
            "type": "histogram2dcontour"
           }
          ],
          "mesh3d": [
           {
            "colorbar": {
             "outlinewidth": 0,
             "ticks": ""
            },
            "type": "mesh3d"
           }
          ],
          "parcoords": [
           {
            "line": {
             "colorbar": {
              "outlinewidth": 0,
              "ticks": ""
             }
            },
            "type": "parcoords"
           }
          ],
          "pie": [
           {
            "automargin": true,
            "type": "pie"
           }
          ],
          "scatter": [
           {
            "fillpattern": {
             "fillmode": "overlay",
             "size": 10,
             "solidity": 0.2
            },
            "type": "scatter"
           }
          ],
          "scatter3d": [
           {
            "line": {
             "colorbar": {
              "outlinewidth": 0,
              "ticks": ""
             }
            },
            "marker": {
             "colorbar": {
              "outlinewidth": 0,
              "ticks": ""
             }
            },
            "type": "scatter3d"
           }
          ],
          "scattercarpet": [
           {
            "marker": {
             "colorbar": {
              "outlinewidth": 0,
              "ticks": ""
             }
            },
            "type": "scattercarpet"
           }
          ],
          "scattergeo": [
           {
            "marker": {
             "colorbar": {
              "outlinewidth": 0,
              "ticks": ""
             }
            },
            "type": "scattergeo"
           }
          ],
          "scattergl": [
           {
            "marker": {
             "colorbar": {
              "outlinewidth": 0,
              "ticks": ""
             }
            },
            "type": "scattergl"
           }
          ],
          "scattermap": [
           {
            "marker": {
             "colorbar": {
              "outlinewidth": 0,
              "ticks": ""
             }
            },
            "type": "scattermap"
           }
          ],
          "scattermapbox": [
           {
            "marker": {
             "colorbar": {
              "outlinewidth": 0,
              "ticks": ""
             }
            },
            "type": "scattermapbox"
           }
          ],
          "scatterpolar": [
           {
            "marker": {
             "colorbar": {
              "outlinewidth": 0,
              "ticks": ""
             }
            },
            "type": "scatterpolar"
           }
          ],
          "scatterpolargl": [
           {
            "marker": {
             "colorbar": {
              "outlinewidth": 0,
              "ticks": ""
             }
            },
            "type": "scatterpolargl"
           }
          ],
          "scatterternary": [
           {
            "marker": {
             "colorbar": {
              "outlinewidth": 0,
              "ticks": ""
             }
            },
            "type": "scatterternary"
           }
          ],
          "surface": [
           {
            "colorbar": {
             "outlinewidth": 0,
             "ticks": ""
            },
            "colorscale": [
             [
              0,
              "#0d0887"
             ],
             [
              0.1111111111111111,
              "#46039f"
             ],
             [
              0.2222222222222222,
              "#7201a8"
             ],
             [
              0.3333333333333333,
              "#9c179e"
             ],
             [
              0.4444444444444444,
              "#bd3786"
             ],
             [
              0.5555555555555556,
              "#d8576b"
             ],
             [
              0.6666666666666666,
              "#ed7953"
             ],
             [
              0.7777777777777778,
              "#fb9f3a"
             ],
             [
              0.8888888888888888,
              "#fdca26"
             ],
             [
              1,
              "#f0f921"
             ]
            ],
            "type": "surface"
           }
          ],
          "table": [
           {
            "cells": {
             "fill": {
              "color": "#EBF0F8"
             },
             "line": {
              "color": "white"
             }
            },
            "header": {
             "fill": {
              "color": "#C8D4E3"
             },
             "line": {
              "color": "white"
             }
            },
            "type": "table"
           }
          ]
         },
         "layout": {
          "annotationdefaults": {
           "arrowcolor": "#2a3f5f",
           "arrowhead": 0,
           "arrowwidth": 1
          },
          "autotypenumbers": "strict",
          "coloraxis": {
           "colorbar": {
            "outlinewidth": 0,
            "ticks": ""
           }
          },
          "colorscale": {
           "diverging": [
            [
             0,
             "#8e0152"
            ],
            [
             0.1,
             "#c51b7d"
            ],
            [
             0.2,
             "#de77ae"
            ],
            [
             0.3,
             "#f1b6da"
            ],
            [
             0.4,
             "#fde0ef"
            ],
            [
             0.5,
             "#f7f7f7"
            ],
            [
             0.6,
             "#e6f5d0"
            ],
            [
             0.7,
             "#b8e186"
            ],
            [
             0.8,
             "#7fbc41"
            ],
            [
             0.9,
             "#4d9221"
            ],
            [
             1,
             "#276419"
            ]
           ],
           "sequential": [
            [
             0,
             "#0d0887"
            ],
            [
             0.1111111111111111,
             "#46039f"
            ],
            [
             0.2222222222222222,
             "#7201a8"
            ],
            [
             0.3333333333333333,
             "#9c179e"
            ],
            [
             0.4444444444444444,
             "#bd3786"
            ],
            [
             0.5555555555555556,
             "#d8576b"
            ],
            [
             0.6666666666666666,
             "#ed7953"
            ],
            [
             0.7777777777777778,
             "#fb9f3a"
            ],
            [
             0.8888888888888888,
             "#fdca26"
            ],
            [
             1,
             "#f0f921"
            ]
           ],
           "sequentialminus": [
            [
             0,
             "#0d0887"
            ],
            [
             0.1111111111111111,
             "#46039f"
            ],
            [
             0.2222222222222222,
             "#7201a8"
            ],
            [
             0.3333333333333333,
             "#9c179e"
            ],
            [
             0.4444444444444444,
             "#bd3786"
            ],
            [
             0.5555555555555556,
             "#d8576b"
            ],
            [
             0.6666666666666666,
             "#ed7953"
            ],
            [
             0.7777777777777778,
             "#fb9f3a"
            ],
            [
             0.8888888888888888,
             "#fdca26"
            ],
            [
             1,
             "#f0f921"
            ]
           ]
          },
          "colorway": [
           "#636efa",
           "#EF553B",
           "#00cc96",
           "#ab63fa",
           "#FFA15A",
           "#19d3f3",
           "#FF6692",
           "#B6E880",
           "#FF97FF",
           "#FECB52"
          ],
          "font": {
           "color": "#2a3f5f"
          },
          "geo": {
           "bgcolor": "white",
           "lakecolor": "white",
           "landcolor": "#E5ECF6",
           "showlakes": true,
           "showland": true,
           "subunitcolor": "white"
          },
          "hoverlabel": {
           "align": "left"
          },
          "hovermode": "closest",
          "mapbox": {
           "style": "light"
          },
          "paper_bgcolor": "white",
          "plot_bgcolor": "#E5ECF6",
          "polar": {
           "angularaxis": {
            "gridcolor": "white",
            "linecolor": "white",
            "ticks": ""
           },
           "bgcolor": "#E5ECF6",
           "radialaxis": {
            "gridcolor": "white",
            "linecolor": "white",
            "ticks": ""
           }
          },
          "scene": {
           "xaxis": {
            "backgroundcolor": "#E5ECF6",
            "gridcolor": "white",
            "gridwidth": 2,
            "linecolor": "white",
            "showbackground": true,
            "ticks": "",
            "zerolinecolor": "white"
           },
           "yaxis": {
            "backgroundcolor": "#E5ECF6",
            "gridcolor": "white",
            "gridwidth": 2,
            "linecolor": "white",
            "showbackground": true,
            "ticks": "",
            "zerolinecolor": "white"
           },
           "zaxis": {
            "backgroundcolor": "#E5ECF6",
            "gridcolor": "white",
            "gridwidth": 2,
            "linecolor": "white",
            "showbackground": true,
            "ticks": "",
            "zerolinecolor": "white"
           }
          },
          "shapedefaults": {
           "line": {
            "color": "#2a3f5f"
           }
          },
          "ternary": {
           "aaxis": {
            "gridcolor": "white",
            "linecolor": "white",
            "ticks": ""
           },
           "baxis": {
            "gridcolor": "white",
            "linecolor": "white",
            "ticks": ""
           },
           "bgcolor": "#E5ECF6",
           "caxis": {
            "gridcolor": "white",
            "linecolor": "white",
            "ticks": ""
           }
          },
          "title": {
           "x": 0.05
          },
          "xaxis": {
           "automargin": true,
           "gridcolor": "white",
           "linecolor": "white",
           "ticks": "",
           "title": {
            "standoff": 15
           },
           "zerolinecolor": "white",
           "zerolinewidth": 2
          },
          "yaxis": {
           "automargin": true,
           "gridcolor": "white",
           "linecolor": "white",
           "ticks": "",
           "title": {
            "standoff": 15
           },
           "zerolinecolor": "white",
           "zerolinewidth": 2
          }
         }
        },
        "title": {
         "text": "Predicted: Very Negative (50.1% confidence)<br><sup>Red - supposedly negative words, Green - supposedly positive words</sup>"
        },
        "xaxis": {
         "range": [
          0,
          1
         ],
         "showgrid": false,
         "visible": false,
         "zeroline": false
        },
        "yaxis": {
         "range": [
          0.34000000000000014,
          1.1
         ],
         "showgrid": false,
         "visible": false,
         "zeroline": false
        }
       }
      }
     },
     "metadata": {},
     "output_type": "display_data"
    },
    {
     "data": {
      "application/vnd.plotly.v1+json": {
       "config": {
        "plotlyServerURL": "https://plot.ly"
       },
       "data": [
        {
         "hoverinfo": "text",
         "hoverlabel": {
          "bgcolor": "white",
          "font": {
           "family": "Arial",
           "size": 12
          }
         },
         "marker": {
          "opacity": 0,
          "size": 10
         },
         "mode": "markers",
         "showlegend": false,
         "text": [
          "Word: Sono<br>SHAP value: 0.003<br>Works for <b>Positive</b> prediction<br>",
          "Word: stati<br>SHAP value: 0.002<br>Works for <b>Positive</b> prediction<br>",
          "Word: i<br>SHAP value: -0.001<br>Works against <b>Positive</b> prediction<br>",
          "Word: matematici<br>SHAP value: -0.008<br>Works against <b>Positive</b> prediction<br>",
          "Word: a<br>SHAP value: 0.008<br>Works for <b>Positive</b> prediction<br>",
          "Word: vincere<br>SHAP value: 0.006<br>Works for <b>Positive</b> prediction<br>",
          "Word: la<br>SHAP value: 0.018<br>Works for <b>Positive</b> prediction<br>",
          "Word: guerra.<br>SHAP value: -0.012<br>Works against <b>Positive</b> prediction<br>",
          "Word: Sono<br>SHAP value: 0.003<br>Works for <b>Positive</b> prediction<br>",
          "Word: stati<br>SHAP value: 0.002<br>Works for <b>Positive</b> prediction<br>",
          "Word: i<br>SHAP value: -0.001<br>Works against <b>Positive</b> prediction<br>",
          "Word: matematici<br>SHAP value: -0.008<br>Works against <b>Positive</b> prediction<br>",
          "Word: a<br>SHAP value: 0.008<br>Works for <b>Positive</b> prediction<br>",
          "Word: decifrare<br>SHAP value: -0.053<br>Works against <b>Positive</b> prediction<br>",
          "Word: i<br>SHAP value: -0.001<br>Works against <b>Positive</b> prediction<br>",
          "Word: codici<br>SHAP value: -0.002<br>Works against <b>Positive</b> prediction<br>",
          "Word: giapponesi...<br>SHAP value: -0.026<br>Works against <b>Positive</b> prediction<br>",
          "Word: e<br>SHAP value: 0.009<br>Works for <b>Positive</b> prediction<br>",
          "Word: a<br>SHAP value: 0.008<br>Works for <b>Positive</b> prediction<br>",
          "Word: costruire<br>SHAP value: 0.028<br>Works for <b>Positive</b> prediction<br>",
          "Word: la<br>SHAP value: 0.018<br>Works for <b>Positive</b> prediction<br>",
          "Word: bomba<br>SHAP value: 0.004<br>Works for <b>Positive</b> prediction<br>",
          "Word: atomica.<br>SHAP value: -0.045<br>Works against <b>Positive</b> prediction<br>",
          "Word: Matematici,<br>SHAP value: 0.022<br>Works for <b>Positive</b> prediction<br>",
          "Word: come<br>SHAP value: 0.009<br>Works for <b>Positive</b> prediction<br>",
          "Word: voi.<br>SHAP value: 0.015<br>Works for <b>Positive</b> prediction<br>"
         ],
         "type": "scatter",
         "x": [
          0.04,
          0.11499999999999999,
          0.16749999999999998,
          0.25749999999999995,
          0.3475,
          0.415,
          0.49,
          0.565,
          0.655,
          0.73,
          0.7825,
          0.8724999999999999,
          0.9624999999999999,
          1.045,
          0.0175,
          0.0775,
          0.2275,
          0.34,
          0.36250000000000004,
          0.44500000000000006,
          0.535,
          0.595,
          0.7,
          0.8500000000000001,
          0.9700000000000001,
          1.0375
         ],
         "y": [
          1,
          1,
          1,
          1,
          1,
          1,
          1,
          1,
          1,
          1,
          1,
          1,
          1,
          1,
          0.8200000000000001,
          0.8200000000000001,
          0.8200000000000001,
          0.8200000000000001,
          0.8200000000000001,
          0.8200000000000001,
          0.8200000000000001,
          0.8200000000000001,
          0.8200000000000001,
          0.8200000000000001,
          0.8200000000000001,
          0.8200000000000001
         ]
        }
       ],
       "layout": {
        "annotations": [
         {
          "font": {
           "color": "black",
           "size": 14
          },
          "showarrow": false,
          "text": "Sono",
          "x": 0.04,
          "y": 1
         },
         {
          "font": {
           "color": "black",
           "size": 14
          },
          "showarrow": false,
          "text": "stati",
          "x": 0.11499999999999999,
          "y": 1
         },
         {
          "font": {
           "color": "black",
           "size": 14
          },
          "showarrow": false,
          "text": "i",
          "x": 0.16749999999999998,
          "y": 1
         },
         {
          "font": {
           "color": "black",
           "size": 14
          },
          "showarrow": false,
          "text": "matematici",
          "x": 0.25749999999999995,
          "y": 1
         },
         {
          "font": {
           "color": "black",
           "size": 14
          },
          "showarrow": false,
          "text": "a",
          "x": 0.3475,
          "y": 1
         },
         {
          "font": {
           "color": "black",
           "size": 14
          },
          "showarrow": false,
          "text": "vincere",
          "x": 0.415,
          "y": 1
         },
         {
          "font": {
           "color": "black",
           "size": 14
          },
          "showarrow": false,
          "text": "la",
          "x": 0.49,
          "y": 1
         },
         {
          "font": {
           "color": "black",
           "size": 14
          },
          "showarrow": false,
          "text": "guerra.",
          "x": 0.565,
          "y": 1
         },
         {
          "font": {
           "color": "black",
           "size": 14
          },
          "showarrow": false,
          "text": "Sono",
          "x": 0.655,
          "y": 1
         },
         {
          "font": {
           "color": "black",
           "size": 14
          },
          "showarrow": false,
          "text": "stati",
          "x": 0.73,
          "y": 1
         },
         {
          "font": {
           "color": "black",
           "size": 14
          },
          "showarrow": false,
          "text": "i",
          "x": 0.7825,
          "y": 1
         },
         {
          "font": {
           "color": "black",
           "size": 14
          },
          "showarrow": false,
          "text": "matematici",
          "x": 0.8724999999999999,
          "y": 1
         },
         {
          "font": {
           "color": "black",
           "size": 14
          },
          "showarrow": false,
          "text": "a",
          "x": 0.9624999999999999,
          "y": 1
         },
         {
          "font": {
           "color": "black",
           "size": 14
          },
          "showarrow": false,
          "text": "decifrare",
          "x": 1.045,
          "y": 1
         },
         {
          "font": {
           "color": "black",
           "size": 14
          },
          "showarrow": false,
          "text": "i",
          "x": 0.0175,
          "y": 0.8200000000000001
         },
         {
          "font": {
           "color": "black",
           "size": 14
          },
          "showarrow": false,
          "text": "codici",
          "x": 0.0775,
          "y": 0.8200000000000001
         },
         {
          "font": {
           "color": "black",
           "size": 14
          },
          "showarrow": false,
          "text": "giapponesi...",
          "x": 0.2275,
          "y": 0.8200000000000001
         },
         {
          "font": {
           "color": "black",
           "size": 14
          },
          "showarrow": false,
          "text": "e",
          "x": 0.34,
          "y": 0.8200000000000001
         },
         {
          "font": {
           "color": "black",
           "size": 14
          },
          "showarrow": false,
          "text": "a",
          "x": 0.36250000000000004,
          "y": 0.8200000000000001
         },
         {
          "font": {
           "color": "black",
           "size": 14
          },
          "showarrow": false,
          "text": "costruire",
          "x": 0.44500000000000006,
          "y": 0.8200000000000001
         },
         {
          "font": {
           "color": "black",
           "size": 14
          },
          "showarrow": false,
          "text": "la",
          "x": 0.535,
          "y": 0.8200000000000001
         },
         {
          "font": {
           "color": "black",
           "size": 14
          },
          "showarrow": false,
          "text": "bomba",
          "x": 0.595,
          "y": 0.8200000000000001
         },
         {
          "font": {
           "color": "black",
           "size": 14
          },
          "showarrow": false,
          "text": "atomica.",
          "x": 0.7,
          "y": 0.8200000000000001
         },
         {
          "font": {
           "color": "black",
           "size": 14
          },
          "showarrow": false,
          "text": "Matematici,",
          "x": 0.8500000000000001,
          "y": 0.8200000000000001
         },
         {
          "font": {
           "color": "black",
           "size": 14
          },
          "showarrow": false,
          "text": "come",
          "x": 0.9700000000000001,
          "y": 0.8200000000000001
         },
         {
          "font": {
           "color": "black",
           "size": 14
          },
          "showarrow": false,
          "text": "voi.",
          "x": 1.0375,
          "y": 0.8200000000000001
         }
        ],
        "hoverdistance": 20,
        "margin": {
         "b": 0.1,
         "l": 20,
         "r": 20,
         "t": 60
        },
        "plot_bgcolor": "white",
        "shapes": [
         {
          "fillcolor": "rgba(0, 128, 0, 0.04975744309634613)",
          "line": {
           "width": 0
          },
          "type": "rect",
          "x0": 0.01,
          "x1": 0.06999999999999999,
          "y0": 0.925,
          "y1": 1.075
         },
         {
          "fillcolor": "rgba(0, 128, 0, 0.03688330684437199)",
          "line": {
           "width": 0
          },
          "type": "rect",
          "x0": 0.0775,
          "x1": 0.1525,
          "y0": 0.925,
          "y1": 1.075
         },
         {
          "fillcolor": "rgba(255, 0, 0, 0.017527407746379644)",
          "line": {
           "width": 0
          },
          "type": "rect",
          "x0": 0.15999999999999998,
          "x1": 0.175,
          "y0": 0.925,
          "y1": 1.075
         },
         {
          "fillcolor": "rgba(255, 0, 0, 0.15233435565107073)",
          "line": {
           "width": 0
          },
          "type": "rect",
          "x0": 0.18249999999999997,
          "x1": 0.33249999999999996,
          "y0": 0.925,
          "y1": 1.075
         },
         {
          "fillcolor": "rgba(0, 128, 0, 0.15857325980005865)",
          "line": {
           "width": 0
          },
          "type": "rect",
          "x0": 0.33999999999999997,
          "x1": 0.355,
          "y0": 0.925,
          "y1": 1.075
         },
         {
          "fillcolor": "rgba(0, 128, 0, 0.11017615401025822)",
          "line": {
           "width": 0
          },
          "type": "rect",
          "x0": 0.3625,
          "x1": 0.46749999999999997,
          "y0": 0.925,
          "y1": 1.075
         },
         {
          "fillcolor": "rgba(0, 128, 0, 0.3488860323022636)",
          "line": {
           "width": 0
          },
          "type": "rect",
          "x0": 0.475,
          "x1": 0.505,
          "y0": 0.925,
          "y1": 1.075
         },
         {
          "fillcolor": "rgba(255, 0, 0, 0.21811696623468316)",
          "line": {
           "width": 0
          },
          "type": "rect",
          "x0": 0.5125,
          "x1": 0.6174999999999999,
          "y0": 0.925,
          "y1": 1.075
         },
         {
          "fillcolor": "rgba(0, 128, 0, 0.04975744309634613)",
          "line": {
           "width": 0
          },
          "type": "rect",
          "x0": 0.625,
          "x1": 0.685,
          "y0": 0.925,
          "y1": 1.075
         },
         {
          "fillcolor": "rgba(0, 128, 0, 0.03688330684437199)",
          "line": {
           "width": 0
          },
          "type": "rect",
          "x0": 0.6925,
          "x1": 0.7675,
          "y0": 0.925,
          "y1": 1.075
         },
         {
          "fillcolor": "rgba(255, 0, 0, 0.017527407746379644)",
          "line": {
           "width": 0
          },
          "type": "rect",
          "x0": 0.775,
          "x1": 0.79,
          "y0": 0.925,
          "y1": 1.075
         },
         {
          "fillcolor": "rgba(255, 0, 0, 0.15233435565107073)",
          "line": {
           "width": 0
          },
          "type": "rect",
          "x0": 0.7975,
          "x1": 0.9475,
          "y0": 0.925,
          "y1": 1.075
         },
         {
          "fillcolor": "rgba(0, 128, 0, 0.15857325980005865)",
          "line": {
           "width": 0
          },
          "type": "rect",
          "x0": 0.955,
          "x1": 0.97,
          "y0": 0.925,
          "y1": 1.075
         },
         {
          "fillcolor": "rgba(255, 0, 0, 1.0)",
          "line": {
           "width": 0
          },
          "type": "rect",
          "x0": 0.9774999999999999,
          "x1": 1.1124999999999998,
          "y0": 0.925,
          "y1": 1.075
         },
         {
          "fillcolor": "rgba(255, 0, 0, 0.017527407746379644)",
          "line": {
           "width": 0
          },
          "type": "rect",
          "x0": 0.01,
          "x1": 0.025,
          "y0": 0.7450000000000001,
          "y1": 0.895
         },
         {
          "fillcolor": "rgba(255, 0, 0, 0.04387154783171568)",
          "line": {
           "width": 0
          },
          "type": "rect",
          "x0": 0.0325,
          "x1": 0.1225,
          "y0": 0.7450000000000001,
          "y1": 0.895
         },
         {
          "fillcolor": "rgba(255, 0, 0, 0.4905311082898802)",
          "line": {
           "width": 0
          },
          "type": "rect",
          "x0": 0.13,
          "x1": 0.325,
          "y0": 0.7450000000000001,
          "y1": 0.895
         },
         {
          "fillcolor": "rgba(0, 128, 0, 0.1637324673797253)",
          "line": {
           "width": 0
          },
          "type": "rect",
          "x0": 0.3325,
          "x1": 0.34750000000000003,
          "y0": 0.7450000000000001,
          "y1": 0.895
         },
         {
          "fillcolor": "rgba(0, 128, 0, 0.15857325980005865)",
          "line": {
           "width": 0
          },
          "type": "rect",
          "x0": 0.35500000000000004,
          "x1": 0.37000000000000005,
          "y0": 0.7450000000000001,
          "y1": 0.895
         },
         {
          "fillcolor": "rgba(0, 128, 0, 0.5294760184288514)",
          "line": {
           "width": 0
          },
          "type": "rect",
          "x0": 0.37750000000000006,
          "x1": 0.5125000000000001,
          "y0": 0.7450000000000001,
          "y1": 0.895
         },
         {
          "fillcolor": "rgba(0, 128, 0, 0.3488860323022636)",
          "line": {
           "width": 0
          },
          "type": "rect",
          "x0": 0.52,
          "x1": 0.55,
          "y0": 0.7450000000000001,
          "y1": 0.895
         },
         {
          "fillcolor": "rgba(0, 128, 0, 0.07911729891060501)",
          "line": {
           "width": 0
          },
          "type": "rect",
          "x0": 0.5575,
          "x1": 0.6325,
          "y0": 0.7450000000000001,
          "y1": 0.895
         },
         {
          "fillcolor": "rgba(255, 0, 0, 0.8548157476721402)",
          "line": {
           "width": 0
          },
          "type": "rect",
          "x0": 0.64,
          "x1": 0.76,
          "y0": 0.7450000000000001,
          "y1": 0.895
         },
         {
          "fillcolor": "rgba(0, 128, 0, 0.41325930078107936)",
          "line": {
           "width": 0
          },
          "type": "rect",
          "x0": 0.7675000000000001,
          "x1": 0.9325000000000001,
          "y0": 0.7450000000000001,
          "y1": 0.895
         },
         {
          "fillcolor": "rgba(0, 128, 0, 0.1740667369464329)",
          "line": {
           "width": 0
          },
          "type": "rect",
          "x0": 0.9400000000000001,
          "x1": 1,
          "y0": 0.7450000000000001,
          "y1": 0.895
         },
         {
          "fillcolor": "rgba(0, 128, 0, 0.2887111960742483)",
          "line": {
           "width": 0
          },
          "type": "rect",
          "x0": 1.0075,
          "x1": 1.0675000000000001,
          "y0": 0.7450000000000001,
          "y1": 0.895
         }
        ],
        "showlegend": false,
        "template": {
         "data": {
          "bar": [
           {
            "error_x": {
             "color": "#2a3f5f"
            },
            "error_y": {
             "color": "#2a3f5f"
            },
            "marker": {
             "line": {
              "color": "#E5ECF6",
              "width": 0.5
             },
             "pattern": {
              "fillmode": "overlay",
              "size": 10,
              "solidity": 0.2
             }
            },
            "type": "bar"
           }
          ],
          "barpolar": [
           {
            "marker": {
             "line": {
              "color": "#E5ECF6",
              "width": 0.5
             },
             "pattern": {
              "fillmode": "overlay",
              "size": 10,
              "solidity": 0.2
             }
            },
            "type": "barpolar"
           }
          ],
          "carpet": [
           {
            "aaxis": {
             "endlinecolor": "#2a3f5f",
             "gridcolor": "white",
             "linecolor": "white",
             "minorgridcolor": "white",
             "startlinecolor": "#2a3f5f"
            },
            "baxis": {
             "endlinecolor": "#2a3f5f",
             "gridcolor": "white",
             "linecolor": "white",
             "minorgridcolor": "white",
             "startlinecolor": "#2a3f5f"
            },
            "type": "carpet"
           }
          ],
          "choropleth": [
           {
            "colorbar": {
             "outlinewidth": 0,
             "ticks": ""
            },
            "type": "choropleth"
           }
          ],
          "contour": [
           {
            "colorbar": {
             "outlinewidth": 0,
             "ticks": ""
            },
            "colorscale": [
             [
              0,
              "#0d0887"
             ],
             [
              0.1111111111111111,
              "#46039f"
             ],
             [
              0.2222222222222222,
              "#7201a8"
             ],
             [
              0.3333333333333333,
              "#9c179e"
             ],
             [
              0.4444444444444444,
              "#bd3786"
             ],
             [
              0.5555555555555556,
              "#d8576b"
             ],
             [
              0.6666666666666666,
              "#ed7953"
             ],
             [
              0.7777777777777778,
              "#fb9f3a"
             ],
             [
              0.8888888888888888,
              "#fdca26"
             ],
             [
              1,
              "#f0f921"
             ]
            ],
            "type": "contour"
           }
          ],
          "contourcarpet": [
           {
            "colorbar": {
             "outlinewidth": 0,
             "ticks": ""
            },
            "type": "contourcarpet"
           }
          ],
          "heatmap": [
           {
            "colorbar": {
             "outlinewidth": 0,
             "ticks": ""
            },
            "colorscale": [
             [
              0,
              "#0d0887"
             ],
             [
              0.1111111111111111,
              "#46039f"
             ],
             [
              0.2222222222222222,
              "#7201a8"
             ],
             [
              0.3333333333333333,
              "#9c179e"
             ],
             [
              0.4444444444444444,
              "#bd3786"
             ],
             [
              0.5555555555555556,
              "#d8576b"
             ],
             [
              0.6666666666666666,
              "#ed7953"
             ],
             [
              0.7777777777777778,
              "#fb9f3a"
             ],
             [
              0.8888888888888888,
              "#fdca26"
             ],
             [
              1,
              "#f0f921"
             ]
            ],
            "type": "heatmap"
           }
          ],
          "histogram": [
           {
            "marker": {
             "pattern": {
              "fillmode": "overlay",
              "size": 10,
              "solidity": 0.2
             }
            },
            "type": "histogram"
           }
          ],
          "histogram2d": [
           {
            "colorbar": {
             "outlinewidth": 0,
             "ticks": ""
            },
            "colorscale": [
             [
              0,
              "#0d0887"
             ],
             [
              0.1111111111111111,
              "#46039f"
             ],
             [
              0.2222222222222222,
              "#7201a8"
             ],
             [
              0.3333333333333333,
              "#9c179e"
             ],
             [
              0.4444444444444444,
              "#bd3786"
             ],
             [
              0.5555555555555556,
              "#d8576b"
             ],
             [
              0.6666666666666666,
              "#ed7953"
             ],
             [
              0.7777777777777778,
              "#fb9f3a"
             ],
             [
              0.8888888888888888,
              "#fdca26"
             ],
             [
              1,
              "#f0f921"
             ]
            ],
            "type": "histogram2d"
           }
          ],
          "histogram2dcontour": [
           {
            "colorbar": {
             "outlinewidth": 0,
             "ticks": ""
            },
            "colorscale": [
             [
              0,
              "#0d0887"
             ],
             [
              0.1111111111111111,
              "#46039f"
             ],
             [
              0.2222222222222222,
              "#7201a8"
             ],
             [
              0.3333333333333333,
              "#9c179e"
             ],
             [
              0.4444444444444444,
              "#bd3786"
             ],
             [
              0.5555555555555556,
              "#d8576b"
             ],
             [
              0.6666666666666666,
              "#ed7953"
             ],
             [
              0.7777777777777778,
              "#fb9f3a"
             ],
             [
              0.8888888888888888,
              "#fdca26"
             ],
             [
              1,
              "#f0f921"
             ]
            ],
            "type": "histogram2dcontour"
           }
          ],
          "mesh3d": [
           {
            "colorbar": {
             "outlinewidth": 0,
             "ticks": ""
            },
            "type": "mesh3d"
           }
          ],
          "parcoords": [
           {
            "line": {
             "colorbar": {
              "outlinewidth": 0,
              "ticks": ""
             }
            },
            "type": "parcoords"
           }
          ],
          "pie": [
           {
            "automargin": true,
            "type": "pie"
           }
          ],
          "scatter": [
           {
            "fillpattern": {
             "fillmode": "overlay",
             "size": 10,
             "solidity": 0.2
            },
            "type": "scatter"
           }
          ],
          "scatter3d": [
           {
            "line": {
             "colorbar": {
              "outlinewidth": 0,
              "ticks": ""
             }
            },
            "marker": {
             "colorbar": {
              "outlinewidth": 0,
              "ticks": ""
             }
            },
            "type": "scatter3d"
           }
          ],
          "scattercarpet": [
           {
            "marker": {
             "colorbar": {
              "outlinewidth": 0,
              "ticks": ""
             }
            },
            "type": "scattercarpet"
           }
          ],
          "scattergeo": [
           {
            "marker": {
             "colorbar": {
              "outlinewidth": 0,
              "ticks": ""
             }
            },
            "type": "scattergeo"
           }
          ],
          "scattergl": [
           {
            "marker": {
             "colorbar": {
              "outlinewidth": 0,
              "ticks": ""
             }
            },
            "type": "scattergl"
           }
          ],
          "scattermap": [
           {
            "marker": {
             "colorbar": {
              "outlinewidth": 0,
              "ticks": ""
             }
            },
            "type": "scattermap"
           }
          ],
          "scattermapbox": [
           {
            "marker": {
             "colorbar": {
              "outlinewidth": 0,
              "ticks": ""
             }
            },
            "type": "scattermapbox"
           }
          ],
          "scatterpolar": [
           {
            "marker": {
             "colorbar": {
              "outlinewidth": 0,
              "ticks": ""
             }
            },
            "type": "scatterpolar"
           }
          ],
          "scatterpolargl": [
           {
            "marker": {
             "colorbar": {
              "outlinewidth": 0,
              "ticks": ""
             }
            },
            "type": "scatterpolargl"
           }
          ],
          "scatterternary": [
           {
            "marker": {
             "colorbar": {
              "outlinewidth": 0,
              "ticks": ""
             }
            },
            "type": "scatterternary"
           }
          ],
          "surface": [
           {
            "colorbar": {
             "outlinewidth": 0,
             "ticks": ""
            },
            "colorscale": [
             [
              0,
              "#0d0887"
             ],
             [
              0.1111111111111111,
              "#46039f"
             ],
             [
              0.2222222222222222,
              "#7201a8"
             ],
             [
              0.3333333333333333,
              "#9c179e"
             ],
             [
              0.4444444444444444,
              "#bd3786"
             ],
             [
              0.5555555555555556,
              "#d8576b"
             ],
             [
              0.6666666666666666,
              "#ed7953"
             ],
             [
              0.7777777777777778,
              "#fb9f3a"
             ],
             [
              0.8888888888888888,
              "#fdca26"
             ],
             [
              1,
              "#f0f921"
             ]
            ],
            "type": "surface"
           }
          ],
          "table": [
           {
            "cells": {
             "fill": {
              "color": "#EBF0F8"
             },
             "line": {
              "color": "white"
             }
            },
            "header": {
             "fill": {
              "color": "#C8D4E3"
             },
             "line": {
              "color": "white"
             }
            },
            "type": "table"
           }
          ]
         },
         "layout": {
          "annotationdefaults": {
           "arrowcolor": "#2a3f5f",
           "arrowhead": 0,
           "arrowwidth": 1
          },
          "autotypenumbers": "strict",
          "coloraxis": {
           "colorbar": {
            "outlinewidth": 0,
            "ticks": ""
           }
          },
          "colorscale": {
           "diverging": [
            [
             0,
             "#8e0152"
            ],
            [
             0.1,
             "#c51b7d"
            ],
            [
             0.2,
             "#de77ae"
            ],
            [
             0.3,
             "#f1b6da"
            ],
            [
             0.4,
             "#fde0ef"
            ],
            [
             0.5,
             "#f7f7f7"
            ],
            [
             0.6,
             "#e6f5d0"
            ],
            [
             0.7,
             "#b8e186"
            ],
            [
             0.8,
             "#7fbc41"
            ],
            [
             0.9,
             "#4d9221"
            ],
            [
             1,
             "#276419"
            ]
           ],
           "sequential": [
            [
             0,
             "#0d0887"
            ],
            [
             0.1111111111111111,
             "#46039f"
            ],
            [
             0.2222222222222222,
             "#7201a8"
            ],
            [
             0.3333333333333333,
             "#9c179e"
            ],
            [
             0.4444444444444444,
             "#bd3786"
            ],
            [
             0.5555555555555556,
             "#d8576b"
            ],
            [
             0.6666666666666666,
             "#ed7953"
            ],
            [
             0.7777777777777778,
             "#fb9f3a"
            ],
            [
             0.8888888888888888,
             "#fdca26"
            ],
            [
             1,
             "#f0f921"
            ]
           ],
           "sequentialminus": [
            [
             0,
             "#0d0887"
            ],
            [
             0.1111111111111111,
             "#46039f"
            ],
            [
             0.2222222222222222,
             "#7201a8"
            ],
            [
             0.3333333333333333,
             "#9c179e"
            ],
            [
             0.4444444444444444,
             "#bd3786"
            ],
            [
             0.5555555555555556,
             "#d8576b"
            ],
            [
             0.6666666666666666,
             "#ed7953"
            ],
            [
             0.7777777777777778,
             "#fb9f3a"
            ],
            [
             0.8888888888888888,
             "#fdca26"
            ],
            [
             1,
             "#f0f921"
            ]
           ]
          },
          "colorway": [
           "#636efa",
           "#EF553B",
           "#00cc96",
           "#ab63fa",
           "#FFA15A",
           "#19d3f3",
           "#FF6692",
           "#B6E880",
           "#FF97FF",
           "#FECB52"
          ],
          "font": {
           "color": "#2a3f5f"
          },
          "geo": {
           "bgcolor": "white",
           "lakecolor": "white",
           "landcolor": "#E5ECF6",
           "showlakes": true,
           "showland": true,
           "subunitcolor": "white"
          },
          "hoverlabel": {
           "align": "left"
          },
          "hovermode": "closest",
          "mapbox": {
           "style": "light"
          },
          "paper_bgcolor": "white",
          "plot_bgcolor": "#E5ECF6",
          "polar": {
           "angularaxis": {
            "gridcolor": "white",
            "linecolor": "white",
            "ticks": ""
           },
           "bgcolor": "#E5ECF6",
           "radialaxis": {
            "gridcolor": "white",
            "linecolor": "white",
            "ticks": ""
           }
          },
          "scene": {
           "xaxis": {
            "backgroundcolor": "#E5ECF6",
            "gridcolor": "white",
            "gridwidth": 2,
            "linecolor": "white",
            "showbackground": true,
            "ticks": "",
            "zerolinecolor": "white"
           },
           "yaxis": {
            "backgroundcolor": "#E5ECF6",
            "gridcolor": "white",
            "gridwidth": 2,
            "linecolor": "white",
            "showbackground": true,
            "ticks": "",
            "zerolinecolor": "white"
           },
           "zaxis": {
            "backgroundcolor": "#E5ECF6",
            "gridcolor": "white",
            "gridwidth": 2,
            "linecolor": "white",
            "showbackground": true,
            "ticks": "",
            "zerolinecolor": "white"
           }
          },
          "shapedefaults": {
           "line": {
            "color": "#2a3f5f"
           }
          },
          "ternary": {
           "aaxis": {
            "gridcolor": "white",
            "linecolor": "white",
            "ticks": ""
           },
           "baxis": {
            "gridcolor": "white",
            "linecolor": "white",
            "ticks": ""
           },
           "bgcolor": "#E5ECF6",
           "caxis": {
            "gridcolor": "white",
            "linecolor": "white",
            "ticks": ""
           }
          },
          "title": {
           "x": 0.05
          },
          "xaxis": {
           "automargin": true,
           "gridcolor": "white",
           "linecolor": "white",
           "ticks": "",
           "title": {
            "standoff": 15
           },
           "zerolinecolor": "white",
           "zerolinewidth": 2
          },
          "yaxis": {
           "automargin": true,
           "gridcolor": "white",
           "linecolor": "white",
           "ticks": "",
           "title": {
            "standoff": 15
           },
           "zerolinecolor": "white",
           "zerolinewidth": 2
          }
         }
        },
        "title": {
         "text": "Predicted: Positive (32.3% confidence)<br><sup>Red - supposedly negative words, Green - supposedly positive words</sup>"
        },
        "xaxis": {
         "range": [
          0,
          1
         ],
         "showgrid": false,
         "visible": false,
         "zeroline": false
        },
        "yaxis": {
         "range": [
          0.34000000000000014,
          1.1
         ],
         "showgrid": false,
         "visible": false,
         "zeroline": false
        }
       }
      }
     },
     "metadata": {},
     "output_type": "display_data"
    }
   ],
   "source": [
    "i = 0\n",
    "visualize_shap_explanation(simple_movie1['english'][i])\n",
    "visualize_shap_explanation(simple_movie1['russian'][i])\n",
    "visualize_shap_explanation(simple_movie1['italian'][i])\n"
   ]
  },
  {
   "cell_type": "markdown",
   "metadata": {},
   "source": [
    "### Visualisation in SHAP"
   ]
  },
  {
   "cell_type": "code",
   "execution_count": 7,
   "metadata": {},
   "outputs": [
    {
     "name": "stdout",
     "output_type": "stream",
     "text": [
      "\n",
      "SHAP Force Plot for English text:\n",
      "Predicted: Very Negative (Confidence: 39.2%)\n"
     ]
    },
    {
     "data": {
      "image/png": "[encoded data removed]",
      "text/plain": [
       "<Figure size 2000x300 with 1 Axes>"
      ]
     },
     "metadata": {},
     "output_type": "display_data"
    },
    {
     "name": "stdout",
     "output_type": "stream",
     "text": [
      "\n",
      "SHAP Force Plot for Russian text:\n",
      "Predicted: Very Negative (Confidence: 50.1%)\n"
     ]
    },
    {
     "data": {
      "image/png": "[encoded data removed]",
      "text/plain": [
       "<Figure size 2000x300 with 1 Axes>"
      ]
     },
     "metadata": {},
     "output_type": "display_data"
    },
    {
     "name": "stdout",
     "output_type": "stream",
     "text": [
      "\n",
      "SHAP Force Plot for Italian text:\n",
      "Predicted: Positive (Confidence: 32.3%)\n"
     ]
    },
    {
     "data": {
      "image/png": "[encoded data removed]",
      "text/plain": [
       "<Figure size 2000x300 with 1 Axes>"
      ]
     },
     "metadata": {},
     "output_type": "display_data"
    }
   ],
   "source": [
    "# Force Plot - shows how each feature contributes to pushing the model output from the base value to the prediction\n",
    "for lang in ['english', 'russian', 'italian']:\n",
    "    entry = simple_movie1[lang][i]\n",
    "    \n",
    "    # Create SHAP values array for the predicted class\n",
    "    shap_values = np.array([float(val) for val in entry['word_shap_values']])\n",
    "    words = entry['words']\n",
    "    \n",
    "    print(f\"\\nSHAP Force Plot for {lang.capitalize()} text:\")\n",
    "    print(f\"Predicted: {entry['class_name']} (Confidence: {float(entry['confidence']):.1%})\")\n",
    "    shap.force_plot(\n",
    "        base_value=0,  # base value (expected value) for this model output\n",
    "        shap_values=shap_values,\n",
    "        features=words,\n",
    "        show=True,\n",
    "        matplotlib=True\n",
    "    )\n",
    "    plt.show()\n"
   ]
  }
 ],
 "metadata": {
  "kernelspec": {
   "display_name": ".venv",
   "language": "python",
   "name": "python3"
  },
  "language_info": {
   "codemirror_mode": {
    "name": "ipython",
    "version": 3
   },
   "file_extension": ".py",
   "mimetype": "text/x-python",
   "name": "python",
   "nbconvert_exporter": "python",
   "pygments_lexer": "ipython3",
   "version": "3.12.7"
  }
 },
 "nbformat": 4,
 "nbformat_minor": 2
}
